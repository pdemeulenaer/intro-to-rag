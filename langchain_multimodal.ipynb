{
  "cells": [
    {
      "cell_type": "markdown",
      "metadata": {
        "colab_type": "text",
        "id": "view-in-github"
      },
      "source": [
        "<a href=\"https://colab.research.google.com/github/pdemeulenaer/intro-to-rag/blob/main/langchain_multimodal.ipynb\" target=\"_parent\"><img src=\"https://colab.research.google.com/assets/colab-badge.svg\" alt=\"Open In Colab\"/></a>"
      ]
    },
    {
      "cell_type": "code",
      "execution_count": null,
      "id": "2aed48d3",
      "metadata": {},
      "outputs": [],
      "source": [
        "# Copied from https://www.youtube.com/watch?v=uLrReyH5cu0&ab_channel=AlejandroAO-Software%26Ai"
      ]
    },
    {
      "cell_type": "markdown",
      "id": "812a4dbc-fe04-4b84-bdf9-390045e30806",
      "metadata": {
        "id": "812a4dbc-fe04-4b84-bdf9-390045e30806"
      },
      "source": [
        "# Multi-modal RAG with LangChain"
      ]
    },
    {
      "cell_type": "markdown",
      "id": "ecXPgawqG7XH",
      "metadata": {
        "id": "ecXPgawqG7XH"
      },
      "source": [
        "## SetUp\n",
        "\n",
        "Install the dependencies you need to run the notebook."
      ]
    },
    {
      "cell_type": "code",
      "execution_count": null,
      "id": "133b74f6",
      "metadata": {
        "id": "133b74f6"
      },
      "outputs": [],
      "source": [
        "# for linux\n",
        "# %sudo apt-get install poppler-utils tesseract-ocr libmagic-dev\n",
        "\n",
        "# for mac\n",
        "# %brew install poppler tesseract libmagic"
      ]
    },
    {
      "cell_type": "code",
      "execution_count": 1,
      "id": "2nDWBTrhn-_M",
      "metadata": {
        "id": "2nDWBTrhn-_M",
        "outputId": "7f1e98ab-538a-4c49-85ef-8590f83c4770"
      },
      "outputs": [],
      "source": [
        "# %pip install -Uq \"unstructured[all-docs]\" pillow lxml pillow\n",
        "# %pip install -Uq chromadb tiktoken\n",
        "# %pip install -Uq langchain langchain-community langchain-openai langchain-groq\n",
        "# %pip install -Uq python_dotenv\n"
      ]
    },
    {
      "cell_type": "code",
      "execution_count": 1,
      "id": "071d7b07",
      "metadata": {},
      "outputs": [
        {
          "data": {
            "text/plain": [
              "True"
            ]
          },
          "execution_count": 1,
          "metadata": {},
          "output_type": "execute_result"
        }
      ],
      "source": [
        "import os\n",
        "from dotenv import load_dotenv\n",
        "\n",
        "load_dotenv()"
      ]
    },
    {
      "cell_type": "code",
      "execution_count": 3,
      "id": "91106e31",
      "metadata": {
        "id": "91106e31",
        "outputId": "fb35d92c-c338-4b78-bacb-5da648093f6e"
      },
      "outputs": [],
      "source": [
        "# import os\n",
        "\n",
        "# # keys for the services we will use\n",
        "\n",
        "# os.environ[\"OPENAI_API_KEY\"] = \"sk-...\" \n",
        "# os.environ[\"GROQ_API_KEY\"] = \"sk-...\"\n",
        "# os.environ[\"LANGCHAIN_API_KEY\"] = \"sk-...\"\n",
        "# os.environ[\"LANGCHAIN_TRACING_V2\"] = \"true\"\n",
        "\n",
        "# os.environ[\"GROQ_API_KEY\"]\n"
      ]
    },
    {
      "cell_type": "markdown",
      "id": "74b56bde-1ba0-4525-a11d-cab02c5659e4",
      "metadata": {
        "id": "74b56bde-1ba0-4525-a11d-cab02c5659e4"
      },
      "source": [
        "## Extract the data\n",
        "\n",
        "Extract the elements of the PDF that we will be able to use in the retrieval process. These elements can be: Text, Images, Tables, etc."
      ]
    },
    {
      "cell_type": "markdown",
      "id": "e62ec070",
      "metadata": {
        "id": "e62ec070"
      },
      "source": [
        "### Partition PDF tables, text, and images"
      ]
    },
    {
      "cell_type": "code",
      "execution_count": 4,
      "id": "0a046528-8d22-4f4e-a520-962026562939",
      "metadata": {
        "colab": {
          "base_uri": "https://localhost:8080/",
          "height": 308,
          "referenced_widgets": [
            "5246faf4e8194647a4b41d9de5a168f6",
            "c8f31460d7d5420db2c7840e287fac5b",
            "2ee43f14fa654a66ad0cfb559826f266",
            "e7e6388db19d47ceb06afc75fbb8486c",
            "922be25533bd448e9ce92614f7bd2677",
            "f63ee7f4234c45d48829e011f24eafde",
            "f8bcfb1381aa46d89034ea50e30b43cf",
            "00b164fb36864e53a8a73710d7d855cc",
            "64a0c4aa0bba4b6f8e8f5775a4341147",
            "2bcca7acc6f047d6ad4efbf1e5333c58",
            "052ec73371404595b7dec973dda308d4",
            "b12ba9f2111c44eeb5ae65820cc7d5d7",
            "15b9261bb07f4bbb95d276b92feabade",
            "5ffb0b594f51466284af380fd4d47b40",
            "fc994e0c5ced45c78c0b9bb6f19c073f",
            "c58471c60519419e9cdb3c7ff174d702",
            "0e7ed203dde24ec9a8d0f9c95a8877fd",
            "e64cfd87330d4b238596da66db63d984",
            "c13aff2b064743be941b4672550e56c9",
            "ef5fba5f330748faa9bd583d637087a6",
            "daabde9b4b764797af6b96370e40c1d2",
            "7d37b6f0ba8b4c5eb875635b98778d26",
            "a9a67e81e91e46e19b23f58dea634525",
            "2045ffddb5c4407f9235d1bf472e9ba5",
            "2df0c4cc59044ec8a59aadf2d5d2a9c9",
            "3095817ccc8f4ec6bae9b0c201d8e40a",
            "93205e664daa4921959605eb99dfa9cc",
            "9eab400a02dc46269e2537db44a78625",
            "415ddcb74bc2467fa9399039b7d0cafb",
            "b2fc825e7e6949e0a18f491ff261ac2b",
            "df6e6c84cc1c4c7b8cf5f8555eb42166",
            "547eb1582628438c9f0ef01554dfcdb4",
            "40b532d4d85740a2a16251bb321f489a",
            "ef897646c62444929b91935d3917b14d",
            "3bd05fe4e6bd4ea2b7bfcfba705369c5",
            "27e36e7f92d7417bb221fa95406cfb2f",
            "21318da3ae0644c28ec63983a34bd2ee",
            "c428c0bd915d455986b3193e9636ea80",
            "01ef4b60c3144e17afffb86281466bab",
            "3494ef9884224fa9a0a65999d7fc2945",
            "7185b40a7fa74088ad7ff6efb524e6b5",
            "cc6672c78dac468d9264efd90902c87d",
            "7ad056a7d71847d498f270ecac5cbf62",
            "309bad22d08c47af8d51942da599328e"
          ]
        },
        "id": "0a046528-8d22-4f4e-a520-962026562939",
        "outputId": "85bfb6b1-557f-4d4d-be94-b0c7200150e2",
        "scrolled": true
      },
      "outputs": [
        {
          "name": "stderr",
          "output_type": "stream",
          "text": [
            "/home/philippe/.cache/pypoetry/virtualenvs/intro-to-rag-vf99OxW6-py3.12/lib/python3.12/site-packages/tqdm/auto.py:21: TqdmWarning: IProgress not found. Please update jupyter and ipywidgets. See https://ipywidgets.readthedocs.io/en/stable/user_install.html\n",
            "  from .autonotebook import tqdm as notebook_tqdm\n"
          ]
        }
      ],
      "source": [
        "from unstructured.partition.pdf import partition_pdf\n",
        "\n",
        "output_path = \"./content/\"\n",
        "file_path = output_path + 'attention.pdf'\n",
        "\n",
        "# Reference: https://docs.unstructured.io/open-source/core-functionality/chunking\n",
        "chunks = partition_pdf(\n",
        "    filename=file_path,\n",
        "    infer_table_structure=True,            # extract tables\n",
        "    strategy=\"hi_res\",                     # mandatory to infer tables\n",
        "\n",
        "    extract_image_block_types=[\"Image\"],   # Add 'Table' to list to extract image of tables\n",
        "    # image_output_dir_path=output_path,   # if None, images and tables will saved in base64\n",
        "\n",
        "    extract_image_block_to_payload=True,   # if true, will extract base64 for API usage\n",
        "\n",
        "    chunking_strategy=\"by_title\",          # or 'basic'\n",
        "    max_characters=10000,                  # defaults to 500\n",
        "    combine_text_under_n_chars=2000,       # defaults to 0\n",
        "    new_after_n_chars=6000,\n",
        "\n",
        "    # extract_images_in_pdf=True,          # deprecated\n",
        ")"
      ]
    },
    {
      "cell_type": "code",
      "execution_count": 5,
      "id": "d7d14bb2",
      "metadata": {},
      "outputs": [
        {
          "data": {
            "text/plain": [
              "12"
            ]
          },
          "execution_count": 5,
          "metadata": {},
          "output_type": "execute_result"
        }
      ],
      "source": [
        "len(chunks)"
      ]
    },
    {
      "cell_type": "code",
      "execution_count": 6,
      "id": "038f6733",
      "metadata": {
        "id": "038f6733",
        "outputId": "9645206b-5b1d-45b5-ae1d-1883d78247f6"
      },
      "outputs": [
        {
          "data": {
            "text/plain": [
              "{\"<class 'unstructured.documents.elements.CompositeElement'>\"}"
            ]
          },
          "execution_count": 6,
          "metadata": {},
          "output_type": "execute_result"
        }
      ],
      "source": [
        "# We get 2 types of elements from the partition_pdf function\n",
        "set([str(type(el)) for el in chunks])"
      ]
    },
    {
      "cell_type": "code",
      "execution_count": 7,
      "id": "c8a22b2b",
      "metadata": {},
      "outputs": [
        {
          "data": {
            "text/plain": [
              "{'type': 'CompositeElement',\n",
              " 'element_id': 'a6ce81cc1dae5a636540178efcefa710',\n",
              " 'text': '3.2 Attention\\n\\nAn attention function can be described as mapping a query and a set of key-value pairs to an output, where the query, keys, values, and output are all vectors. The output is computed as a weighted sum\\n\\n3\\n\\nScaled Dot-Product Attention\\n\\nMulti-Head Attention\\n\\nLinear\\n\\nFigure 2: (left) Scaled Dot-Product Attention. (right) Multi-Head Attention consists of several attention layers running in parallel.\\n\\nof the values, where the weight assigned to each value is computed by a compatibility function of the query with the corresponding key.\\n\\n3.2.1 Scaled Dot-Product Attention\\n\\nWe call our particular attention \"Scaled Dot-Product Attention\" (Figure 2). The input consists of queries and keys of dimension dk, and values of dimension dv. We compute the dot products of the √ dk, and apply a softmax function to obtain the weights on the query with all keys, divide each by values.\\n\\nIn practice, we compute the attention function on a set of queries simultaneously, packed together into a matrix Q. The keys and values are also packed together into matrices K and V . We compute the matrix of outputs as:\\n\\nAttention(Q,K,V ) = softmax( QKT √ dk )V (1)\\n\\nThe two most commonly used attention functions are additive attention [2], and dot-product (multi- plicative) attention. Dot-product attention is identical to our algorithm, except for the scaling factor 1√ of . Additive attention computes the compatibility function using a feed-forward network with dk a single hidden layer. While the two are similar in theoretical complexity, dot-product attention is much faster and more space-efficient in practice, since it can be implemented using highly optimized matrix multiplication code.\\n\\nWhile for small values of dk the two mechanisms perform similarly, additive attention outperforms dot product attention without scaling for larger values of dk [3]. We suspect that for large values of dk, the dot products grow large in magnitude, pushing the softmax function into regions where it has extremely small gradients 4. To counteract this effect, we scale the dot products by 1√ . dk',\n",
              " 'metadata': {'filetype': 'application/pdf',\n",
              "  'languages': ['eng'],\n",
              "  'last_modified': '2025-03-07T13:49:31',\n",
              "  'page_number': 3,\n",
              "  'orig_elements': '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',\n",
              "  'file_directory': './content',\n",
              "  'filename': 'attention.pdf'}}"
            ]
          },
          "execution_count": 7,
          "metadata": {},
          "output_type": "execute_result"
        }
      ],
      "source": [
        "chunks[3].to_dict()"
      ]
    },
    {
      "cell_type": "code",
      "execution_count": 8,
      "id": "cccca0db",
      "metadata": {
        "id": "cccca0db",
        "outputId": "46f33bf2-d1d8-4bef-a0bf-d903ae2179d3"
      },
      "outputs": [
        {
          "data": {
            "text/plain": [
              "[<unstructured.documents.elements.Title at 0x70ed34007650>,\n",
              " <unstructured.documents.elements.NarrativeText at 0x70ed340077a0>,\n",
              " <unstructured.documents.elements.Footer at 0x70ed34007920>,\n",
              " <unstructured.documents.elements.Title at 0x70ed623ff6e0>,\n",
              " <unstructured.documents.elements.Title at 0x70ed36b183b0>,\n",
              " <unstructured.documents.elements.Image at 0x70ed340079e0>,\n",
              " <unstructured.documents.elements.Image at 0x70ed34007b00>,\n",
              " <unstructured.documents.elements.NarrativeText at 0x70ed34007c80>,\n",
              " <unstructured.documents.elements.NarrativeText at 0x70ed34007dd0>,\n",
              " <unstructured.documents.elements.Title at 0x70ed34007f50>,\n",
              " <unstructured.documents.elements.NarrativeText at 0x70ed34006570>,\n",
              " <unstructured.documents.elements.NarrativeText at 0x70ed340056a0>,\n",
              " <unstructured.documents.elements.Formula at 0x70ed340055b0>,\n",
              " <unstructured.documents.elements.NarrativeText at 0x70ed34005fd0>,\n",
              " <unstructured.documents.elements.NarrativeText at 0x70ed340056d0>]"
            ]
          },
          "execution_count": 8,
          "metadata": {},
          "output_type": "execute_result"
        }
      ],
      "source": [
        "# Each CompositeElement containes a bunch of related elements.\n",
        "# This makes it easy to use these elements together in a RAG pipeline.\n",
        "\n",
        "chunks[3].metadata.orig_elements"
      ]
    },
    {
      "cell_type": "code",
      "execution_count": 9,
      "id": "b8766f03",
      "metadata": {
        "id": "b8766f03",
        "outputId": "8bd43211-e0a6-4d35-833e-ee7cb374c9b6"
      },
      "outputs": [
        {
          "data": {
            "text/plain": [
              "{'type': 'Image',\n",
              " 'element_id': 'dc6d9848-5874-4dc2-b186-073a176ff00a',\n",
              " 'text': '',\n",
              " 'metadata': {'coordinates': {'points': ((486.0, 261.1805555555558),\n",
              "    (486.0, 614.7805555555556),\n",
              "    (664.0, 614.7805555555556),\n",
              "    (664.0, 261.1805555555558)),\n",
              "   'system': 'PixelSpace',\n",
              "   'layout_width': 1700,\n",
              "   'layout_height': 2200},\n",
              "  'last_modified': '2025-03-07T13:49:31',\n",
              "  'filetype': 'PPM',\n",
              "  'languages': ['eng'],\n",
              "  'page_number': 4,\n",
              "  'image_base64': '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',\n",
              "  'image_mime_type': 'image/jpeg'}}"
            ]
          },
          "execution_count": 9,
          "metadata": {},
          "output_type": "execute_result"
        }
      ],
      "source": [
        "# This is what an extracted image looks like.\n",
        "# It contains the base64 representation only because we set the param extract_image_block_to_payload=True\n",
        "\n",
        "elements = chunks[3].metadata.orig_elements\n",
        "chunk_images = [el for el in elements if 'Image' in str(type(el))]\n",
        "chunk_images[0].to_dict()"
      ]
    },
    {
      "cell_type": "markdown",
      "id": "26caebda",
      "metadata": {
        "id": "26caebda"
      },
      "source": [
        "### Separate extracted elements into tables, text, and images"
      ]
    },
    {
      "cell_type": "code",
      "execution_count": 10,
      "id": "8326a750",
      "metadata": {
        "id": "8326a750"
      },
      "outputs": [],
      "source": [
        "# separate tables from texts\n",
        "tables = []\n",
        "texts = []\n",
        "\n",
        "for chunk in chunks:\n",
        "    if \"Table\" in str(type(chunk)):\n",
        "        tables.append(chunk)\n",
        "\n",
        "    if \"CompositeElement\" in str(type((chunk))):\n",
        "        texts.append(chunk)"
      ]
    },
    {
      "cell_type": "code",
      "execution_count": 11,
      "id": "df548e46",
      "metadata": {
        "id": "df548e46"
      },
      "outputs": [],
      "source": [
        "# Get the images from the CompositeElement objects\n",
        "def get_images_base64(chunks):\n",
        "    images_b64 = []\n",
        "    for chunk in chunks:\n",
        "        if \"CompositeElement\" in str(type(chunk)):\n",
        "            chunk_els = chunk.metadata.orig_elements\n",
        "            for el in chunk_els:\n",
        "                if \"Image\" in str(type(el)):\n",
        "                    images_b64.append(el.metadata.image_base64)\n",
        "    return images_b64\n",
        "\n",
        "images = get_images_base64(chunks)"
      ]
    },
    {
      "cell_type": "markdown",
      "id": "9582f462",
      "metadata": {
        "id": "9582f462"
      },
      "source": [
        "#### Check what the images look like"
      ]
    },
    {
      "cell_type": "code",
      "execution_count": 12,
      "id": "83158c36",
      "metadata": {
        "id": "83158c36",
        "outputId": "50ba7432-e879-4a64-e9f4-b47fdbeb0fbf"
      },
      "outputs": [
        {
          "data": {
            "image/jpeg": "[encoded data removed]",
            "text/plain": [
              "<IPython.core.display.Image object>"
            ]
          },
          "metadata": {},
          "output_type": "display_data"
        }
      ],
      "source": [
        "import base64\n",
        "from IPython.display import Image, display\n",
        "\n",
        "def display_base64_image(base64_code):\n",
        "    # Decode the base64 string to binary\n",
        "    image_data = base64.b64decode(base64_code)\n",
        "    # Display the image\n",
        "    display(Image(data=image_data))\n",
        "\n",
        "display_base64_image(images[0])"
      ]
    },
    {
      "cell_type": "markdown",
      "id": "0aa7f52f-bf5c-4ba4-af72-b2ccba59a4cf",
      "metadata": {
        "id": "0aa7f52f-bf5c-4ba4-af72-b2ccba59a4cf"
      },
      "source": [
        "## Summarize the data\n",
        "\n",
        "Create a summary of each element extracted from the PDF. This summary will be vectorized and used in the retrieval process."
      ]
    },
    {
      "cell_type": "markdown",
      "id": "8b55862c",
      "metadata": {
        "id": "8b55862c"
      },
      "source": [
        "### Text and Table summaries\n",
        "\n",
        "We don't need a multimodal model to generate the summaries of the tables and the text. I will use open source models available on Groq."
      ]
    },
    {
      "cell_type": "code",
      "execution_count": 13,
      "id": "08b3d2bc",
      "metadata": {
        "id": "08b3d2bc",
        "outputId": "5c39beb3-2a0c-44b8-c2b2-48a4e451282c"
      },
      "outputs": [],
      "source": [
        "# %pip install -Uq langchain-groq"
      ]
    },
    {
      "cell_type": "code",
      "execution_count": 14,
      "id": "523e6ed2-2132-4748-bdb7-db765f20648d",
      "metadata": {
        "id": "523e6ed2-2132-4748-bdb7-db765f20648d"
      },
      "outputs": [],
      "source": [
        "from langchain_groq import ChatGroq\n",
        "from langchain_core.prompts import ChatPromptTemplate\n",
        "from langchain_core.output_parsers import StrOutputParser"
      ]
    },
    {
      "cell_type": "code",
      "execution_count": 15,
      "id": "22c22e3f-42fb-4a4a-a87a-89f10ba8ab99",
      "metadata": {
        "id": "22c22e3f-42fb-4a4a-a87a-89f10ba8ab99"
      },
      "outputs": [],
      "source": [
        "# Prompt\n",
        "prompt_text = \"\"\"\n",
        "You are an assistant tasked with summarizing tables and text.\n",
        "Give a concise summary of the table or text.\n",
        "\n",
        "Respond only with the summary, no additionnal comment.\n",
        "Do not start your message by saying \"Here is a summary\" or anything like that.\n",
        "Just give the summary as it is.\n",
        "\n",
        "Table or text chunk: {element}\n",
        "\n",
        "\"\"\"\n",
        "prompt = ChatPromptTemplate.from_template(prompt_text)\n",
        "\n",
        "# Summary chain\n",
        "model = ChatGroq(temperature=0.5, model=\"llama-3.1-8b-instant\")\n",
        "summarize_chain = {\"element\": lambda x: x} | prompt | model | StrOutputParser()"
      ]
    },
    {
      "cell_type": "code",
      "execution_count": 16,
      "id": "f0b3701c",
      "metadata": {},
      "outputs": [
        {
          "data": {
            "text/plain": [
              "[]"
            ]
          },
          "execution_count": 16,
          "metadata": {},
          "output_type": "execute_result"
        }
      ],
      "source": [
        "tables"
      ]
    },
    {
      "cell_type": "code",
      "execution_count": 19,
      "id": "f176b374-aef0-48f4-a104-fb26b1dd6922",
      "metadata": {
        "id": "f176b374-aef0-48f4-a104-fb26b1dd6922"
      },
      "outputs": [],
      "source": [
        "# Summarize text\n",
        "text_summaries = summarize_chain.batch(texts, {\"max_concurrency\": 3})\n",
        "\n",
        "# Summarize tables\n",
        "tables_html = [table.metadata.text_as_html for table in tables]\n",
        "table_summaries = summarize_chain.batch(tables_html, {\"max_concurrency\": 3})"
      ]
    },
    {
      "cell_type": "code",
      "execution_count": null,
      "id": "1d172ad2",
      "metadata": {
        "id": "1d172ad2",
        "outputId": "1ba65afb-c9cd-4503-c154-db7841dfc1d4"
      },
      "outputs": [
        {
          "data": {
            "text/plain": [
              "['The paper \"Attention Is All You Need\" by Ashish Vaswani et al. introduces the Transformer model, a new network architecture based on attention mechanisms, replacing traditional encoder-decoder models. The Transformer achieves state-of-the-art results on two machine translation tasks, improving over existing best results, and generalizes well to other tasks, such as English constituency parsing.',\n",
              " 'Recurrent neural networks have been established as state of the art in sequence modeling and transduction problems, but their sequential nature limits parallelization and requires computational efficiency improvements through factorization tricks and conditional computation. Attention mechanisms have improved sequence modeling, but typically require a recurrent network. The Transformer model proposes to use attention mechanisms entirely, eschewing recurrence and allowing for more parallelization and improved translation quality.',\n",
              " 'The Transformer model has an encoder-decoder structure, where the encoder maps input symbols to continuous representations and the decoder generates output symbols one element at a time. The model architecture consists of stacked self-attention and point-wise, fully connected layers for both the encoder and decoder. The encoder and decoder stacks each have 6 identical layers with two or three sub-layers, using residual connections and layer normalization.',\n",
              " 'The attention function maps a query and key-value pairs to an output, computed as a weighted sum of the values, where the weights are the compatibility function of the query with the keys. There are two main types: Scaled Dot-Product Attention and Additive Attention. The Scaled Dot-Product Attention uses a dot product of the query with the keys, scaled by √dk, and applies a softmax function to obtain the weights. This method is faster and more space-efficient than Additive Attention, but Additive Attention outperforms it for larger key dimensions.',\n",
              " 'Multi-head attention is a method that linearly projects queries, keys and values h times with different learned linear projections, then performs attention in parallel, allowing the model to jointly attend to information from different representation subspaces at different positions. The output values are concatenated and projected to yield final values. The Transformer model uses multi-head attention in encoder-decoder attention layers, self-attention layers in the encoder, and self-attention layers in the decoder, with a total of 8 parallel attention layers.',\n",
              " 'The encoder and decoder layers in the model contain a fully connected feed-forward network (FFN) with two linear transformations and a ReLU activation in between. The FFN is applied separately to each position, with different parameters for each layer. The model uses learned embeddings to convert input and output tokens to vectors and applies a linear transformation and softmax function to predict next-token probabilities. The embedding layers share the same weight matrix with the pre-softmax linear transformation.',\n",
              " 'Positional encoding is used to incorporate sequence order into a model, as traditional models lack recurrence or convolution. A sinusoidal function is used to create positional encoding, which is hypothesized to allow the model to learn to attend by relative positions. The model can easily learn to attend by relative positions since the sinusoidal function of the position can be represented as a linear function of the sinusoidal function of the position offset. This allows the model to handle longer sequence lengths.',\n",
              " 'The training regime for our models involved using standard WMT datasets, byte-pair encoding, and batching by approximate sequence length. Models were trained on 8 NVIDIA P100 GPUs with the Adam optimizer and varied learning rates. Training times ranged from 12 hours for base models to 3.5 days for big models.',\n",
              " 'The model uses residual dropout and label smoothing to improve accuracy and BLEU score. The big transformer model achieves a new state-of-the-art BLEU score of 28.4 on English-to-German and 41.0 on English-to-French translation tasks, outperforming previous models at a lower training cost.',\n",
              " \"The Transformer model's importance was evaluated by varying its components and measuring performance changes on English-to-German translation. The base model was modified in different ways, with some components having varying TFLOPS values, and results were measured on a development set.\",\n",
              " 'The study investigates the performance of the Transformer model in different settings. It varies the number of attention heads, attention key and value dimensions, and model size to find the best settings for the model. The results show that single-head attention is worse than the best setting, reducing the attention key size hurts model quality, and bigger models with dropout are better. The model also generalizes well to English constituency parsing, achieving good results in both supervised and semi-supervised settings.',\n",
              " 'The Transformer model, the first sequence transduction model based entirely on attention, outperforms previous models in translation tasks, achieving a new state of the art in English-to-German and English-to-French translation tasks.',\n",
              " \"Research papers on computer vision and neural machine translation are cited, including works by Szegedy et al. on the inception architecture, Vinyals et al. on grammar as a foreign language, Wu et al. on Google's neural machine translation system, and Zhu et al. on shift-reduce constituent parsing. Figures 3, 4, and 5 illustrate the attention mechanism in neural networks, showing attention heads attending to distant dependencies and exhibiting behavior related to sentence structure.\"]"
            ]
          },
          "execution_count": 15,
          "metadata": {},
          "output_type": "execute_result"
        }
      ],
      "source": [
        "text_summaries"
      ]
    },
    {
      "cell_type": "code",
      "execution_count": 20,
      "id": "a85b2b85",
      "metadata": {},
      "outputs": [
        {
          "data": {
            "text/plain": [
              "[]"
            ]
          },
          "execution_count": 20,
          "metadata": {},
          "output_type": "execute_result"
        }
      ],
      "source": [
        "table_summaries"
      ]
    },
    {
      "cell_type": "markdown",
      "id": "b1feadda-8171-4aed-9a60-320a88dc9ee1",
      "metadata": {
        "id": "b1feadda-8171-4aed-9a60-320a88dc9ee1"
      },
      "source": [
        "### Image summaries\n",
        "\n",
        "We will use gpt-4o-mini to produce the image summaries."
      ]
    },
    {
      "cell_type": "code",
      "execution_count": 21,
      "id": "32c825e1",
      "metadata": {
        "id": "32c825e1",
        "outputId": "3ef8d057-2214-41e8-80e1-c5f902a01ac8"
      },
      "outputs": [],
      "source": [
        "# %pip install -Uq langchain_openai"
      ]
    },
    {
      "cell_type": "code",
      "execution_count": 22,
      "id": "9e6b1d97-4245-45ac-95ba-9bc1cfd10182",
      "metadata": {
        "id": "9e6b1d97-4245-45ac-95ba-9bc1cfd10182"
      },
      "outputs": [
        {
          "ename": "RateLimitError",
          "evalue": "Error code: 429 - {'error': {'message': 'You exceeded your current quota, please check your plan and billing details. For more information on this error, read the docs: https://platform.openai.com/docs/guides/error-codes/api-errors.', 'type': 'insufficient_quota', 'param': None, 'code': 'insufficient_quota'}}",
          "output_type": "error",
          "traceback": [
            "\u001b[31m---------------------------------------------------------------------------\u001b[39m",
            "\u001b[31mRateLimitError\u001b[39m                            Traceback (most recent call last)",
            "\u001b[36mCell\u001b[39m\u001b[36m \u001b[39m\u001b[32mIn[22]\u001b[39m\u001b[32m, line 24\u001b[39m\n\u001b[32m     19\u001b[39m prompt = ChatPromptTemplate.from_messages(messages)\n\u001b[32m     21\u001b[39m chain = prompt | ChatOpenAI(model=\u001b[33m\"\u001b[39m\u001b[33mgpt-4o-mini\u001b[39m\u001b[33m\"\u001b[39m) | StrOutputParser()\n\u001b[32m---> \u001b[39m\u001b[32m24\u001b[39m image_summaries = \u001b[43mchain\u001b[49m\u001b[43m.\u001b[49m\u001b[43mbatch\u001b[49m\u001b[43m(\u001b[49m\u001b[43mimages\u001b[49m\u001b[43m)\u001b[49m\n",
            "\u001b[36mFile \u001b[39m\u001b[32m~/.cache/pypoetry/virtualenvs/intro-to-rag-vf99OxW6-py3.12/lib/python3.12/site-packages/langchain_core/runnables/base.py:3175\u001b[39m, in \u001b[36mRunnableSequence.batch\u001b[39m\u001b[34m(self, inputs, config, return_exceptions, **kwargs)\u001b[39m\n\u001b[32m   3173\u001b[39m     \u001b[38;5;28;01melse\u001b[39;00m:\n\u001b[32m   3174\u001b[39m         \u001b[38;5;28;01mfor\u001b[39;00m i, step \u001b[38;5;129;01min\u001b[39;00m \u001b[38;5;28menumerate\u001b[39m(\u001b[38;5;28mself\u001b[39m.steps):\n\u001b[32m-> \u001b[39m\u001b[32m3175\u001b[39m             inputs = \u001b[43mstep\u001b[49m\u001b[43m.\u001b[49m\u001b[43mbatch\u001b[49m\u001b[43m(\u001b[49m\n\u001b[32m   3176\u001b[39m \u001b[43m                \u001b[49m\u001b[43minputs\u001b[49m\u001b[43m,\u001b[49m\n\u001b[32m   3177\u001b[39m \u001b[43m                \u001b[49m\u001b[43m[\u001b[49m\n\u001b[32m   3178\u001b[39m \u001b[43m                    \u001b[49m\u001b[38;5;66;43;03m# each step a child run of the corresponding root run\u001b[39;49;00m\n\u001b[32m   3179\u001b[39m \u001b[43m                    \u001b[49m\u001b[43mpatch_config\u001b[49m\u001b[43m(\u001b[49m\n\u001b[32m   3180\u001b[39m \u001b[43m                        \u001b[49m\u001b[43mconfig\u001b[49m\u001b[43m,\u001b[49m\u001b[43m \u001b[49m\u001b[43mcallbacks\u001b[49m\u001b[43m=\u001b[49m\u001b[43mrm\u001b[49m\u001b[43m.\u001b[49m\u001b[43mget_child\u001b[49m\u001b[43m(\u001b[49m\u001b[33;43mf\u001b[39;49m\u001b[33;43m\"\u001b[39;49m\u001b[33;43mseq:step:\u001b[39;49m\u001b[38;5;132;43;01m{\u001b[39;49;00m\u001b[43mi\u001b[49m\u001b[38;5;250;43m \u001b[39;49m\u001b[43m+\u001b[49m\u001b[38;5;250;43m \u001b[39;49m\u001b[32;43m1\u001b[39;49m\u001b[38;5;132;43;01m}\u001b[39;49;00m\u001b[33;43m\"\u001b[39;49m\u001b[43m)\u001b[49m\n\u001b[32m   3181\u001b[39m \u001b[43m                    \u001b[49m\u001b[43m)\u001b[49m\n\u001b[32m   3182\u001b[39m \u001b[43m                    \u001b[49m\u001b[38;5;28;43;01mfor\u001b[39;49;00m\u001b[43m \u001b[49m\u001b[43mrm\u001b[49m\u001b[43m,\u001b[49m\u001b[43m \u001b[49m\u001b[43mconfig\u001b[49m\u001b[43m \u001b[49m\u001b[38;5;129;43;01min\u001b[39;49;00m\u001b[43m \u001b[49m\u001b[38;5;28;43mzip\u001b[39;49m\u001b[43m(\u001b[49m\u001b[43mrun_managers\u001b[49m\u001b[43m,\u001b[49m\u001b[43m \u001b[49m\u001b[43mconfigs\u001b[49m\u001b[43m)\u001b[49m\n\u001b[32m   3183\u001b[39m \u001b[43m                \u001b[49m\u001b[43m]\u001b[49m\u001b[43m,\u001b[49m\n\u001b[32m   3184\u001b[39m \u001b[43m                \u001b[49m\u001b[43mreturn_exceptions\u001b[49m\u001b[43m=\u001b[49m\u001b[43mreturn_exceptions\u001b[49m\u001b[43m,\u001b[49m\n\u001b[32m   3185\u001b[39m \u001b[43m                \u001b[49m\u001b[43m*\u001b[49m\u001b[43m*\u001b[49m\u001b[43m(\u001b[49m\u001b[43mkwargs\u001b[49m\u001b[43m \u001b[49m\u001b[38;5;28;43;01mif\u001b[39;49;00m\u001b[43m \u001b[49m\u001b[43mi\u001b[49m\u001b[43m \u001b[49m\u001b[43m==\u001b[49m\u001b[43m \u001b[49m\u001b[32;43m0\u001b[39;49m\u001b[43m \u001b[49m\u001b[38;5;28;43;01melse\u001b[39;49;00m\u001b[43m \u001b[49m\u001b[43m{\u001b[49m\u001b[43m}\u001b[49m\u001b[43m)\u001b[49m\u001b[43m,\u001b[49m\n\u001b[32m   3186\u001b[39m \u001b[43m            \u001b[49m\u001b[43m)\u001b[49m\n\u001b[32m   3188\u001b[39m \u001b[38;5;66;03m# finish the root runs\u001b[39;00m\n\u001b[32m   3189\u001b[39m \u001b[38;5;28;01mexcept\u001b[39;00m \u001b[38;5;167;01mBaseException\u001b[39;00m \u001b[38;5;28;01mas\u001b[39;00m e:\n",
            "\u001b[36mFile \u001b[39m\u001b[32m~/.cache/pypoetry/virtualenvs/intro-to-rag-vf99OxW6-py3.12/lib/python3.12/site-packages/langchain_core/runnables/base.py:789\u001b[39m, in \u001b[36mRunnable.batch\u001b[39m\u001b[34m(self, inputs, config, return_exceptions, **kwargs)\u001b[39m\n\u001b[32m    786\u001b[39m     \u001b[38;5;28;01mreturn\u001b[39;00m cast(\u001b[38;5;28mlist\u001b[39m[Output], [invoke(inputs[\u001b[32m0\u001b[39m], configs[\u001b[32m0\u001b[39m])])\n\u001b[32m    788\u001b[39m \u001b[38;5;28;01mwith\u001b[39;00m get_executor_for_config(configs[\u001b[32m0\u001b[39m]) \u001b[38;5;28;01mas\u001b[39;00m executor:\n\u001b[32m--> \u001b[39m\u001b[32m789\u001b[39m     \u001b[38;5;28;01mreturn\u001b[39;00m cast(\u001b[38;5;28mlist\u001b[39m[Output], \u001b[38;5;28;43mlist\u001b[39;49m\u001b[43m(\u001b[49m\u001b[43mexecutor\u001b[49m\u001b[43m.\u001b[49m\u001b[43mmap\u001b[49m\u001b[43m(\u001b[49m\u001b[43minvoke\u001b[49m\u001b[43m,\u001b[49m\u001b[43m \u001b[49m\u001b[43minputs\u001b[49m\u001b[43m,\u001b[49m\u001b[43m \u001b[49m\u001b[43mconfigs\u001b[49m\u001b[43m)\u001b[49m\u001b[43m)\u001b[49m)\n",
            "\u001b[36mFile \u001b[39m\u001b[32m/usr/lib/python3.12/concurrent/futures/_base.py:619\u001b[39m, in \u001b[36mExecutor.map.<locals>.result_iterator\u001b[39m\u001b[34m()\u001b[39m\n\u001b[32m    616\u001b[39m \u001b[38;5;28;01mwhile\u001b[39;00m fs:\n\u001b[32m    617\u001b[39m     \u001b[38;5;66;03m# Careful not to keep a reference to the popped future\u001b[39;00m\n\u001b[32m    618\u001b[39m     \u001b[38;5;28;01mif\u001b[39;00m timeout \u001b[38;5;129;01mis\u001b[39;00m \u001b[38;5;28;01mNone\u001b[39;00m:\n\u001b[32m--> \u001b[39m\u001b[32m619\u001b[39m         \u001b[38;5;28;01myield\u001b[39;00m \u001b[43m_result_or_cancel\u001b[49m\u001b[43m(\u001b[49m\u001b[43mfs\u001b[49m\u001b[43m.\u001b[49m\u001b[43mpop\u001b[49m\u001b[43m(\u001b[49m\u001b[43m)\u001b[49m\u001b[43m)\u001b[49m\n\u001b[32m    620\u001b[39m     \u001b[38;5;28;01melse\u001b[39;00m:\n\u001b[32m    621\u001b[39m         \u001b[38;5;28;01myield\u001b[39;00m _result_or_cancel(fs.pop(), end_time - time.monotonic())\n",
            "\u001b[36mFile \u001b[39m\u001b[32m/usr/lib/python3.12/concurrent/futures/_base.py:317\u001b[39m, in \u001b[36m_result_or_cancel\u001b[39m\u001b[34m(***failed resolving arguments***)\u001b[39m\n\u001b[32m    315\u001b[39m \u001b[38;5;28;01mtry\u001b[39;00m:\n\u001b[32m    316\u001b[39m     \u001b[38;5;28;01mtry\u001b[39;00m:\n\u001b[32m--> \u001b[39m\u001b[32m317\u001b[39m         \u001b[38;5;28;01mreturn\u001b[39;00m \u001b[43mfut\u001b[49m\u001b[43m.\u001b[49m\u001b[43mresult\u001b[49m\u001b[43m(\u001b[49m\u001b[43mtimeout\u001b[49m\u001b[43m)\u001b[49m\n\u001b[32m    318\u001b[39m     \u001b[38;5;28;01mfinally\u001b[39;00m:\n\u001b[32m    319\u001b[39m         fut.cancel()\n",
            "\u001b[36mFile \u001b[39m\u001b[32m/usr/lib/python3.12/concurrent/futures/_base.py:456\u001b[39m, in \u001b[36mFuture.result\u001b[39m\u001b[34m(self, timeout)\u001b[39m\n\u001b[32m    454\u001b[39m     \u001b[38;5;28;01mraise\u001b[39;00m CancelledError()\n\u001b[32m    455\u001b[39m \u001b[38;5;28;01melif\u001b[39;00m \u001b[38;5;28mself\u001b[39m._state == FINISHED:\n\u001b[32m--> \u001b[39m\u001b[32m456\u001b[39m     \u001b[38;5;28;01mreturn\u001b[39;00m \u001b[38;5;28;43mself\u001b[39;49m\u001b[43m.\u001b[49m\u001b[43m__get_result\u001b[49m\u001b[43m(\u001b[49m\u001b[43m)\u001b[49m\n\u001b[32m    457\u001b[39m \u001b[38;5;28;01melse\u001b[39;00m:\n\u001b[32m    458\u001b[39m     \u001b[38;5;28;01mraise\u001b[39;00m \u001b[38;5;167;01mTimeoutError\u001b[39;00m()\n",
            "\u001b[36mFile \u001b[39m\u001b[32m/usr/lib/python3.12/concurrent/futures/_base.py:401\u001b[39m, in \u001b[36mFuture.__get_result\u001b[39m\u001b[34m(self)\u001b[39m\n\u001b[32m    399\u001b[39m \u001b[38;5;28;01mif\u001b[39;00m \u001b[38;5;28mself\u001b[39m._exception:\n\u001b[32m    400\u001b[39m     \u001b[38;5;28;01mtry\u001b[39;00m:\n\u001b[32m--> \u001b[39m\u001b[32m401\u001b[39m         \u001b[38;5;28;01mraise\u001b[39;00m \u001b[38;5;28mself\u001b[39m._exception\n\u001b[32m    402\u001b[39m     \u001b[38;5;28;01mfinally\u001b[39;00m:\n\u001b[32m    403\u001b[39m         \u001b[38;5;66;03m# Break a reference cycle with the exception in self._exception\u001b[39;00m\n\u001b[32m    404\u001b[39m         \u001b[38;5;28mself\u001b[39m = \u001b[38;5;28;01mNone\u001b[39;00m\n",
            "\u001b[36mFile \u001b[39m\u001b[32m/usr/lib/python3.12/concurrent/futures/thread.py:58\u001b[39m, in \u001b[36m_WorkItem.run\u001b[39m\u001b[34m(self)\u001b[39m\n\u001b[32m     55\u001b[39m     \u001b[38;5;28;01mreturn\u001b[39;00m\n\u001b[32m     57\u001b[39m \u001b[38;5;28;01mtry\u001b[39;00m:\n\u001b[32m---> \u001b[39m\u001b[32m58\u001b[39m     result = \u001b[38;5;28;43mself\u001b[39;49m\u001b[43m.\u001b[49m\u001b[43mfn\u001b[49m\u001b[43m(\u001b[49m\u001b[43m*\u001b[49m\u001b[38;5;28;43mself\u001b[39;49m\u001b[43m.\u001b[49m\u001b[43margs\u001b[49m\u001b[43m,\u001b[49m\u001b[43m \u001b[49m\u001b[43m*\u001b[49m\u001b[43m*\u001b[49m\u001b[38;5;28;43mself\u001b[39;49m\u001b[43m.\u001b[49m\u001b[43mkwargs\u001b[49m\u001b[43m)\u001b[49m\n\u001b[32m     59\u001b[39m \u001b[38;5;28;01mexcept\u001b[39;00m \u001b[38;5;167;01mBaseException\u001b[39;00m \u001b[38;5;28;01mas\u001b[39;00m exc:\n\u001b[32m     60\u001b[39m     \u001b[38;5;28mself\u001b[39m.future.set_exception(exc)\n",
            "\u001b[36mFile \u001b[39m\u001b[32m~/.cache/pypoetry/virtualenvs/intro-to-rag-vf99OxW6-py3.12/lib/python3.12/site-packages/langchain_core/runnables/config.py:527\u001b[39m, in \u001b[36mContextThreadPoolExecutor.map.<locals>._wrapped_fn\u001b[39m\u001b[34m(*args)\u001b[39m\n\u001b[32m    526\u001b[39m \u001b[38;5;28;01mdef\u001b[39;00m\u001b[38;5;250m \u001b[39m\u001b[34m_wrapped_fn\u001b[39m(*args: Any) -> T:\n\u001b[32m--> \u001b[39m\u001b[32m527\u001b[39m     \u001b[38;5;28;01mreturn\u001b[39;00m \u001b[43mcontexts\u001b[49m\u001b[43m.\u001b[49m\u001b[43mpop\u001b[49m\u001b[43m(\u001b[49m\u001b[43m)\u001b[49m\u001b[43m.\u001b[49m\u001b[43mrun\u001b[49m\u001b[43m(\u001b[49m\u001b[43mfn\u001b[49m\u001b[43m,\u001b[49m\u001b[43m \u001b[49m\u001b[43m*\u001b[49m\u001b[43margs\u001b[49m\u001b[43m)\u001b[49m\n",
            "\u001b[36mFile \u001b[39m\u001b[32m~/.cache/pypoetry/virtualenvs/intro-to-rag-vf99OxW6-py3.12/lib/python3.12/site-packages/langchain_core/runnables/base.py:782\u001b[39m, in \u001b[36mRunnable.batch.<locals>.invoke\u001b[39m\u001b[34m(input, config)\u001b[39m\n\u001b[32m    780\u001b[39m         \u001b[38;5;28;01mreturn\u001b[39;00m e\n\u001b[32m    781\u001b[39m \u001b[38;5;28;01melse\u001b[39;00m:\n\u001b[32m--> \u001b[39m\u001b[32m782\u001b[39m     \u001b[38;5;28;01mreturn\u001b[39;00m \u001b[38;5;28;43mself\u001b[39;49m\u001b[43m.\u001b[49m\u001b[43minvoke\u001b[49m\u001b[43m(\u001b[49m\u001b[38;5;28;43minput\u001b[39;49m\u001b[43m,\u001b[49m\u001b[43m \u001b[49m\u001b[43mconfig\u001b[49m\u001b[43m,\u001b[49m\u001b[43m \u001b[49m\u001b[43m*\u001b[49m\u001b[43m*\u001b[49m\u001b[43mkwargs\u001b[49m\u001b[43m)\u001b[49m\n",
            "\u001b[36mFile \u001b[39m\u001b[32m~/.cache/pypoetry/virtualenvs/intro-to-rag-vf99OxW6-py3.12/lib/python3.12/site-packages/langchain_core/language_models/chat_models.py:285\u001b[39m, in \u001b[36mBaseChatModel.invoke\u001b[39m\u001b[34m(self, input, config, stop, **kwargs)\u001b[39m\n\u001b[32m    274\u001b[39m \u001b[38;5;28;01mdef\u001b[39;00m\u001b[38;5;250m \u001b[39m\u001b[34minvoke\u001b[39m(\n\u001b[32m    275\u001b[39m     \u001b[38;5;28mself\u001b[39m,\n\u001b[32m    276\u001b[39m     \u001b[38;5;28minput\u001b[39m: LanguageModelInput,\n\u001b[32m   (...)\u001b[39m\u001b[32m    280\u001b[39m     **kwargs: Any,\n\u001b[32m    281\u001b[39m ) -> BaseMessage:\n\u001b[32m    282\u001b[39m     config = ensure_config(config)\n\u001b[32m    283\u001b[39m     \u001b[38;5;28;01mreturn\u001b[39;00m cast(\n\u001b[32m    284\u001b[39m         ChatGeneration,\n\u001b[32m--> \u001b[39m\u001b[32m285\u001b[39m         \u001b[38;5;28;43mself\u001b[39;49m\u001b[43m.\u001b[49m\u001b[43mgenerate_prompt\u001b[49m\u001b[43m(\u001b[49m\n\u001b[32m    286\u001b[39m \u001b[43m            \u001b[49m\u001b[43m[\u001b[49m\u001b[38;5;28;43mself\u001b[39;49m\u001b[43m.\u001b[49m\u001b[43m_convert_input\u001b[49m\u001b[43m(\u001b[49m\u001b[38;5;28;43minput\u001b[39;49m\u001b[43m)\u001b[49m\u001b[43m]\u001b[49m\u001b[43m,\u001b[49m\n\u001b[32m    287\u001b[39m \u001b[43m            \u001b[49m\u001b[43mstop\u001b[49m\u001b[43m=\u001b[49m\u001b[43mstop\u001b[49m\u001b[43m,\u001b[49m\n\u001b[32m    288\u001b[39m \u001b[43m            \u001b[49m\u001b[43mcallbacks\u001b[49m\u001b[43m=\u001b[49m\u001b[43mconfig\u001b[49m\u001b[43m.\u001b[49m\u001b[43mget\u001b[49m\u001b[43m(\u001b[49m\u001b[33;43m\"\u001b[39;49m\u001b[33;43mcallbacks\u001b[39;49m\u001b[33;43m\"\u001b[39;49m\u001b[43m)\u001b[49m\u001b[43m,\u001b[49m\n\u001b[32m    289\u001b[39m \u001b[43m            \u001b[49m\u001b[43mtags\u001b[49m\u001b[43m=\u001b[49m\u001b[43mconfig\u001b[49m\u001b[43m.\u001b[49m\u001b[43mget\u001b[49m\u001b[43m(\u001b[49m\u001b[33;43m\"\u001b[39;49m\u001b[33;43mtags\u001b[39;49m\u001b[33;43m\"\u001b[39;49m\u001b[43m)\u001b[49m\u001b[43m,\u001b[49m\n\u001b[32m    290\u001b[39m \u001b[43m            \u001b[49m\u001b[43mmetadata\u001b[49m\u001b[43m=\u001b[49m\u001b[43mconfig\u001b[49m\u001b[43m.\u001b[49m\u001b[43mget\u001b[49m\u001b[43m(\u001b[49m\u001b[33;43m\"\u001b[39;49m\u001b[33;43mmetadata\u001b[39;49m\u001b[33;43m\"\u001b[39;49m\u001b[43m)\u001b[49m\u001b[43m,\u001b[49m\n\u001b[32m    291\u001b[39m \u001b[43m            \u001b[49m\u001b[43mrun_name\u001b[49m\u001b[43m=\u001b[49m\u001b[43mconfig\u001b[49m\u001b[43m.\u001b[49m\u001b[43mget\u001b[49m\u001b[43m(\u001b[49m\u001b[33;43m\"\u001b[39;49m\u001b[33;43mrun_name\u001b[39;49m\u001b[33;43m\"\u001b[39;49m\u001b[43m)\u001b[49m\u001b[43m,\u001b[49m\n\u001b[32m    292\u001b[39m \u001b[43m            \u001b[49m\u001b[43mrun_id\u001b[49m\u001b[43m=\u001b[49m\u001b[43mconfig\u001b[49m\u001b[43m.\u001b[49m\u001b[43mpop\u001b[49m\u001b[43m(\u001b[49m\u001b[33;43m\"\u001b[39;49m\u001b[33;43mrun_id\u001b[39;49m\u001b[33;43m\"\u001b[39;49m\u001b[43m,\u001b[49m\u001b[43m \u001b[49m\u001b[38;5;28;43;01mNone\u001b[39;49;00m\u001b[43m)\u001b[49m\u001b[43m,\u001b[49m\n\u001b[32m    293\u001b[39m \u001b[43m            \u001b[49m\u001b[43m*\u001b[49m\u001b[43m*\u001b[49m\u001b[43mkwargs\u001b[49m\u001b[43m,\u001b[49m\n\u001b[32m    294\u001b[39m \u001b[43m        \u001b[49m\u001b[43m)\u001b[49m.generations[\u001b[32m0\u001b[39m][\u001b[32m0\u001b[39m],\n\u001b[32m    295\u001b[39m     ).message\n",
            "\u001b[36mFile \u001b[39m\u001b[32m~/.cache/pypoetry/virtualenvs/intro-to-rag-vf99OxW6-py3.12/lib/python3.12/site-packages/langchain_core/language_models/chat_models.py:861\u001b[39m, in \u001b[36mBaseChatModel.generate_prompt\u001b[39m\u001b[34m(self, prompts, stop, callbacks, **kwargs)\u001b[39m\n\u001b[32m    853\u001b[39m \u001b[38;5;28;01mdef\u001b[39;00m\u001b[38;5;250m \u001b[39m\u001b[34mgenerate_prompt\u001b[39m(\n\u001b[32m    854\u001b[39m     \u001b[38;5;28mself\u001b[39m,\n\u001b[32m    855\u001b[39m     prompts: \u001b[38;5;28mlist\u001b[39m[PromptValue],\n\u001b[32m   (...)\u001b[39m\u001b[32m    858\u001b[39m     **kwargs: Any,\n\u001b[32m    859\u001b[39m ) -> LLMResult:\n\u001b[32m    860\u001b[39m     prompt_messages = [p.to_messages() \u001b[38;5;28;01mfor\u001b[39;00m p \u001b[38;5;129;01min\u001b[39;00m prompts]\n\u001b[32m--> \u001b[39m\u001b[32m861\u001b[39m     \u001b[38;5;28;01mreturn\u001b[39;00m \u001b[38;5;28;43mself\u001b[39;49m\u001b[43m.\u001b[49m\u001b[43mgenerate\u001b[49m\u001b[43m(\u001b[49m\u001b[43mprompt_messages\u001b[49m\u001b[43m,\u001b[49m\u001b[43m \u001b[49m\u001b[43mstop\u001b[49m\u001b[43m=\u001b[49m\u001b[43mstop\u001b[49m\u001b[43m,\u001b[49m\u001b[43m \u001b[49m\u001b[43mcallbacks\u001b[49m\u001b[43m=\u001b[49m\u001b[43mcallbacks\u001b[49m\u001b[43m,\u001b[49m\u001b[43m \u001b[49m\u001b[43m*\u001b[49m\u001b[43m*\u001b[49m\u001b[43mkwargs\u001b[49m\u001b[43m)\u001b[49m\n",
            "\u001b[36mFile \u001b[39m\u001b[32m~/.cache/pypoetry/virtualenvs/intro-to-rag-vf99OxW6-py3.12/lib/python3.12/site-packages/langchain_core/language_models/chat_models.py:691\u001b[39m, in \u001b[36mBaseChatModel.generate\u001b[39m\u001b[34m(self, messages, stop, callbacks, tags, metadata, run_name, run_id, **kwargs)\u001b[39m\n\u001b[32m    688\u001b[39m \u001b[38;5;28;01mfor\u001b[39;00m i, m \u001b[38;5;129;01min\u001b[39;00m \u001b[38;5;28menumerate\u001b[39m(messages):\n\u001b[32m    689\u001b[39m     \u001b[38;5;28;01mtry\u001b[39;00m:\n\u001b[32m    690\u001b[39m         results.append(\n\u001b[32m--> \u001b[39m\u001b[32m691\u001b[39m             \u001b[38;5;28;43mself\u001b[39;49m\u001b[43m.\u001b[49m\u001b[43m_generate_with_cache\u001b[49m\u001b[43m(\u001b[49m\n\u001b[32m    692\u001b[39m \u001b[43m                \u001b[49m\u001b[43mm\u001b[49m\u001b[43m,\u001b[49m\n\u001b[32m    693\u001b[39m \u001b[43m                \u001b[49m\u001b[43mstop\u001b[49m\u001b[43m=\u001b[49m\u001b[43mstop\u001b[49m\u001b[43m,\u001b[49m\n\u001b[32m    694\u001b[39m \u001b[43m                \u001b[49m\u001b[43mrun_manager\u001b[49m\u001b[43m=\u001b[49m\u001b[43mrun_managers\u001b[49m\u001b[43m[\u001b[49m\u001b[43mi\u001b[49m\u001b[43m]\u001b[49m\u001b[43m \u001b[49m\u001b[38;5;28;43;01mif\u001b[39;49;00m\u001b[43m \u001b[49m\u001b[43mrun_managers\u001b[49m\u001b[43m \u001b[49m\u001b[38;5;28;43;01melse\u001b[39;49;00m\u001b[43m \u001b[49m\u001b[38;5;28;43;01mNone\u001b[39;49;00m\u001b[43m,\u001b[49m\n\u001b[32m    695\u001b[39m \u001b[43m                \u001b[49m\u001b[43m*\u001b[49m\u001b[43m*\u001b[49m\u001b[43mkwargs\u001b[49m\u001b[43m,\u001b[49m\n\u001b[32m    696\u001b[39m \u001b[43m            \u001b[49m\u001b[43m)\u001b[49m\n\u001b[32m    697\u001b[39m         )\n\u001b[32m    698\u001b[39m     \u001b[38;5;28;01mexcept\u001b[39;00m \u001b[38;5;167;01mBaseException\u001b[39;00m \u001b[38;5;28;01mas\u001b[39;00m e:\n\u001b[32m    699\u001b[39m         \u001b[38;5;28;01mif\u001b[39;00m run_managers:\n",
            "\u001b[36mFile \u001b[39m\u001b[32m~/.cache/pypoetry/virtualenvs/intro-to-rag-vf99OxW6-py3.12/lib/python3.12/site-packages/langchain_core/language_models/chat_models.py:926\u001b[39m, in \u001b[36mBaseChatModel._generate_with_cache\u001b[39m\u001b[34m(self, messages, stop, run_manager, **kwargs)\u001b[39m\n\u001b[32m    924\u001b[39m \u001b[38;5;28;01melse\u001b[39;00m:\n\u001b[32m    925\u001b[39m     \u001b[38;5;28;01mif\u001b[39;00m inspect.signature(\u001b[38;5;28mself\u001b[39m._generate).parameters.get(\u001b[33m\"\u001b[39m\u001b[33mrun_manager\u001b[39m\u001b[33m\"\u001b[39m):\n\u001b[32m--> \u001b[39m\u001b[32m926\u001b[39m         result = \u001b[38;5;28;43mself\u001b[39;49m\u001b[43m.\u001b[49m\u001b[43m_generate\u001b[49m\u001b[43m(\u001b[49m\n\u001b[32m    927\u001b[39m \u001b[43m            \u001b[49m\u001b[43mmessages\u001b[49m\u001b[43m,\u001b[49m\u001b[43m \u001b[49m\u001b[43mstop\u001b[49m\u001b[43m=\u001b[49m\u001b[43mstop\u001b[49m\u001b[43m,\u001b[49m\u001b[43m \u001b[49m\u001b[43mrun_manager\u001b[49m\u001b[43m=\u001b[49m\u001b[43mrun_manager\u001b[49m\u001b[43m,\u001b[49m\u001b[43m \u001b[49m\u001b[43m*\u001b[49m\u001b[43m*\u001b[49m\u001b[43mkwargs\u001b[49m\n\u001b[32m    928\u001b[39m \u001b[43m        \u001b[49m\u001b[43m)\u001b[49m\n\u001b[32m    929\u001b[39m     \u001b[38;5;28;01melse\u001b[39;00m:\n\u001b[32m    930\u001b[39m         result = \u001b[38;5;28mself\u001b[39m._generate(messages, stop=stop, **kwargs)\n",
            "\u001b[36mFile \u001b[39m\u001b[32m~/.cache/pypoetry/virtualenvs/intro-to-rag-vf99OxW6-py3.12/lib/python3.12/site-packages/langchain_openai/chat_models/base.py:800\u001b[39m, in \u001b[36mBaseChatOpenAI._generate\u001b[39m\u001b[34m(self, messages, stop, run_manager, **kwargs)\u001b[39m\n\u001b[32m    798\u001b[39m     generation_info = {\u001b[33m\"\u001b[39m\u001b[33mheaders\u001b[39m\u001b[33m\"\u001b[39m: \u001b[38;5;28mdict\u001b[39m(raw_response.headers)}\n\u001b[32m    799\u001b[39m \u001b[38;5;28;01melse\u001b[39;00m:\n\u001b[32m--> \u001b[39m\u001b[32m800\u001b[39m     response = \u001b[38;5;28;43mself\u001b[39;49m\u001b[43m.\u001b[49m\u001b[43mclient\u001b[49m\u001b[43m.\u001b[49m\u001b[43mcreate\u001b[49m\u001b[43m(\u001b[49m\u001b[43m*\u001b[49m\u001b[43m*\u001b[49m\u001b[43mpayload\u001b[49m\u001b[43m)\u001b[49m\n\u001b[32m    801\u001b[39m \u001b[38;5;28;01mreturn\u001b[39;00m \u001b[38;5;28mself\u001b[39m._create_chat_result(response, generation_info)\n",
            "\u001b[36mFile \u001b[39m\u001b[32m~/.cache/pypoetry/virtualenvs/intro-to-rag-vf99OxW6-py3.12/lib/python3.12/site-packages/openai/_utils/_utils.py:279\u001b[39m, in \u001b[36mrequired_args.<locals>.inner.<locals>.wrapper\u001b[39m\u001b[34m(*args, **kwargs)\u001b[39m\n\u001b[32m    277\u001b[39m             msg = \u001b[33mf\u001b[39m\u001b[33m\"\u001b[39m\u001b[33mMissing required argument: \u001b[39m\u001b[38;5;132;01m{\u001b[39;00mquote(missing[\u001b[32m0\u001b[39m])\u001b[38;5;132;01m}\u001b[39;00m\u001b[33m\"\u001b[39m\n\u001b[32m    278\u001b[39m     \u001b[38;5;28;01mraise\u001b[39;00m \u001b[38;5;167;01mTypeError\u001b[39;00m(msg)\n\u001b[32m--> \u001b[39m\u001b[32m279\u001b[39m \u001b[38;5;28;01mreturn\u001b[39;00m \u001b[43mfunc\u001b[49m\u001b[43m(\u001b[49m\u001b[43m*\u001b[49m\u001b[43margs\u001b[49m\u001b[43m,\u001b[49m\u001b[43m \u001b[49m\u001b[43m*\u001b[49m\u001b[43m*\u001b[49m\u001b[43mkwargs\u001b[49m\u001b[43m)\u001b[49m\n",
            "\u001b[36mFile \u001b[39m\u001b[32m~/.cache/pypoetry/virtualenvs/intro-to-rag-vf99OxW6-py3.12/lib/python3.12/site-packages/openai/resources/chat/completions/completions.py:879\u001b[39m, in \u001b[36mCompletions.create\u001b[39m\u001b[34m(self, messages, model, audio, frequency_penalty, function_call, functions, logit_bias, logprobs, max_completion_tokens, max_tokens, metadata, modalities, n, parallel_tool_calls, prediction, presence_penalty, reasoning_effort, response_format, seed, service_tier, stop, store, stream, stream_options, temperature, tool_choice, tools, top_logprobs, top_p, user, extra_headers, extra_query, extra_body, timeout)\u001b[39m\n\u001b[32m    837\u001b[39m \u001b[38;5;129m@required_args\u001b[39m([\u001b[33m\"\u001b[39m\u001b[33mmessages\u001b[39m\u001b[33m\"\u001b[39m, \u001b[33m\"\u001b[39m\u001b[33mmodel\u001b[39m\u001b[33m\"\u001b[39m], [\u001b[33m\"\u001b[39m\u001b[33mmessages\u001b[39m\u001b[33m\"\u001b[39m, \u001b[33m\"\u001b[39m\u001b[33mmodel\u001b[39m\u001b[33m\"\u001b[39m, \u001b[33m\"\u001b[39m\u001b[33mstream\u001b[39m\u001b[33m\"\u001b[39m])\n\u001b[32m    838\u001b[39m \u001b[38;5;28;01mdef\u001b[39;00m\u001b[38;5;250m \u001b[39m\u001b[34mcreate\u001b[39m(\n\u001b[32m    839\u001b[39m     \u001b[38;5;28mself\u001b[39m,\n\u001b[32m   (...)\u001b[39m\u001b[32m    876\u001b[39m     timeout: \u001b[38;5;28mfloat\u001b[39m | httpx.Timeout | \u001b[38;5;28;01mNone\u001b[39;00m | NotGiven = NOT_GIVEN,\n\u001b[32m    877\u001b[39m ) -> ChatCompletion | Stream[ChatCompletionChunk]:\n\u001b[32m    878\u001b[39m     validate_response_format(response_format)\n\u001b[32m--> \u001b[39m\u001b[32m879\u001b[39m     \u001b[38;5;28;01mreturn\u001b[39;00m \u001b[38;5;28;43mself\u001b[39;49m\u001b[43m.\u001b[49m\u001b[43m_post\u001b[49m\u001b[43m(\u001b[49m\n\u001b[32m    880\u001b[39m \u001b[43m        \u001b[49m\u001b[33;43m\"\u001b[39;49m\u001b[33;43m/chat/completions\u001b[39;49m\u001b[33;43m\"\u001b[39;49m\u001b[43m,\u001b[49m\n\u001b[32m    881\u001b[39m \u001b[43m        \u001b[49m\u001b[43mbody\u001b[49m\u001b[43m=\u001b[49m\u001b[43mmaybe_transform\u001b[49m\u001b[43m(\u001b[49m\n\u001b[32m    882\u001b[39m \u001b[43m            \u001b[49m\u001b[43m{\u001b[49m\n\u001b[32m    883\u001b[39m \u001b[43m                \u001b[49m\u001b[33;43m\"\u001b[39;49m\u001b[33;43mmessages\u001b[39;49m\u001b[33;43m\"\u001b[39;49m\u001b[43m:\u001b[49m\u001b[43m \u001b[49m\u001b[43mmessages\u001b[49m\u001b[43m,\u001b[49m\n\u001b[32m    884\u001b[39m \u001b[43m                \u001b[49m\u001b[33;43m\"\u001b[39;49m\u001b[33;43mmodel\u001b[39;49m\u001b[33;43m\"\u001b[39;49m\u001b[43m:\u001b[49m\u001b[43m \u001b[49m\u001b[43mmodel\u001b[49m\u001b[43m,\u001b[49m\n\u001b[32m    885\u001b[39m \u001b[43m                \u001b[49m\u001b[33;43m\"\u001b[39;49m\u001b[33;43maudio\u001b[39;49m\u001b[33;43m\"\u001b[39;49m\u001b[43m:\u001b[49m\u001b[43m \u001b[49m\u001b[43maudio\u001b[49m\u001b[43m,\u001b[49m\n\u001b[32m    886\u001b[39m \u001b[43m                \u001b[49m\u001b[33;43m\"\u001b[39;49m\u001b[33;43mfrequency_penalty\u001b[39;49m\u001b[33;43m\"\u001b[39;49m\u001b[43m:\u001b[49m\u001b[43m \u001b[49m\u001b[43mfrequency_penalty\u001b[49m\u001b[43m,\u001b[49m\n\u001b[32m    887\u001b[39m \u001b[43m                \u001b[49m\u001b[33;43m\"\u001b[39;49m\u001b[33;43mfunction_call\u001b[39;49m\u001b[33;43m\"\u001b[39;49m\u001b[43m:\u001b[49m\u001b[43m \u001b[49m\u001b[43mfunction_call\u001b[49m\u001b[43m,\u001b[49m\n\u001b[32m    888\u001b[39m \u001b[43m                \u001b[49m\u001b[33;43m\"\u001b[39;49m\u001b[33;43mfunctions\u001b[39;49m\u001b[33;43m\"\u001b[39;49m\u001b[43m:\u001b[49m\u001b[43m \u001b[49m\u001b[43mfunctions\u001b[49m\u001b[43m,\u001b[49m\n\u001b[32m    889\u001b[39m \u001b[43m                \u001b[49m\u001b[33;43m\"\u001b[39;49m\u001b[33;43mlogit_bias\u001b[39;49m\u001b[33;43m\"\u001b[39;49m\u001b[43m:\u001b[49m\u001b[43m \u001b[49m\u001b[43mlogit_bias\u001b[49m\u001b[43m,\u001b[49m\n\u001b[32m    890\u001b[39m \u001b[43m                \u001b[49m\u001b[33;43m\"\u001b[39;49m\u001b[33;43mlogprobs\u001b[39;49m\u001b[33;43m\"\u001b[39;49m\u001b[43m:\u001b[49m\u001b[43m \u001b[49m\u001b[43mlogprobs\u001b[49m\u001b[43m,\u001b[49m\n\u001b[32m    891\u001b[39m \u001b[43m                \u001b[49m\u001b[33;43m\"\u001b[39;49m\u001b[33;43mmax_completion_tokens\u001b[39;49m\u001b[33;43m\"\u001b[39;49m\u001b[43m:\u001b[49m\u001b[43m \u001b[49m\u001b[43mmax_completion_tokens\u001b[49m\u001b[43m,\u001b[49m\n\u001b[32m    892\u001b[39m \u001b[43m                \u001b[49m\u001b[33;43m\"\u001b[39;49m\u001b[33;43mmax_tokens\u001b[39;49m\u001b[33;43m\"\u001b[39;49m\u001b[43m:\u001b[49m\u001b[43m \u001b[49m\u001b[43mmax_tokens\u001b[49m\u001b[43m,\u001b[49m\n\u001b[32m    893\u001b[39m \u001b[43m                \u001b[49m\u001b[33;43m\"\u001b[39;49m\u001b[33;43mmetadata\u001b[39;49m\u001b[33;43m\"\u001b[39;49m\u001b[43m:\u001b[49m\u001b[43m \u001b[49m\u001b[43mmetadata\u001b[49m\u001b[43m,\u001b[49m\n\u001b[32m    894\u001b[39m \u001b[43m                \u001b[49m\u001b[33;43m\"\u001b[39;49m\u001b[33;43mmodalities\u001b[39;49m\u001b[33;43m\"\u001b[39;49m\u001b[43m:\u001b[49m\u001b[43m \u001b[49m\u001b[43mmodalities\u001b[49m\u001b[43m,\u001b[49m\n\u001b[32m    895\u001b[39m \u001b[43m                \u001b[49m\u001b[33;43m\"\u001b[39;49m\u001b[33;43mn\u001b[39;49m\u001b[33;43m\"\u001b[39;49m\u001b[43m:\u001b[49m\u001b[43m \u001b[49m\u001b[43mn\u001b[49m\u001b[43m,\u001b[49m\n\u001b[32m    896\u001b[39m \u001b[43m                \u001b[49m\u001b[33;43m\"\u001b[39;49m\u001b[33;43mparallel_tool_calls\u001b[39;49m\u001b[33;43m\"\u001b[39;49m\u001b[43m:\u001b[49m\u001b[43m \u001b[49m\u001b[43mparallel_tool_calls\u001b[49m\u001b[43m,\u001b[49m\n\u001b[32m    897\u001b[39m \u001b[43m                \u001b[49m\u001b[33;43m\"\u001b[39;49m\u001b[33;43mprediction\u001b[39;49m\u001b[33;43m\"\u001b[39;49m\u001b[43m:\u001b[49m\u001b[43m \u001b[49m\u001b[43mprediction\u001b[49m\u001b[43m,\u001b[49m\n\u001b[32m    898\u001b[39m \u001b[43m                \u001b[49m\u001b[33;43m\"\u001b[39;49m\u001b[33;43mpresence_penalty\u001b[39;49m\u001b[33;43m\"\u001b[39;49m\u001b[43m:\u001b[49m\u001b[43m \u001b[49m\u001b[43mpresence_penalty\u001b[49m\u001b[43m,\u001b[49m\n\u001b[32m    899\u001b[39m \u001b[43m                \u001b[49m\u001b[33;43m\"\u001b[39;49m\u001b[33;43mreasoning_effort\u001b[39;49m\u001b[33;43m\"\u001b[39;49m\u001b[43m:\u001b[49m\u001b[43m \u001b[49m\u001b[43mreasoning_effort\u001b[49m\u001b[43m,\u001b[49m\n\u001b[32m    900\u001b[39m \u001b[43m                \u001b[49m\u001b[33;43m\"\u001b[39;49m\u001b[33;43mresponse_format\u001b[39;49m\u001b[33;43m\"\u001b[39;49m\u001b[43m:\u001b[49m\u001b[43m \u001b[49m\u001b[43mresponse_format\u001b[49m\u001b[43m,\u001b[49m\n\u001b[32m    901\u001b[39m \u001b[43m                \u001b[49m\u001b[33;43m\"\u001b[39;49m\u001b[33;43mseed\u001b[39;49m\u001b[33;43m\"\u001b[39;49m\u001b[43m:\u001b[49m\u001b[43m \u001b[49m\u001b[43mseed\u001b[49m\u001b[43m,\u001b[49m\n\u001b[32m    902\u001b[39m \u001b[43m                \u001b[49m\u001b[33;43m\"\u001b[39;49m\u001b[33;43mservice_tier\u001b[39;49m\u001b[33;43m\"\u001b[39;49m\u001b[43m:\u001b[49m\u001b[43m \u001b[49m\u001b[43mservice_tier\u001b[49m\u001b[43m,\u001b[49m\n\u001b[32m    903\u001b[39m \u001b[43m                \u001b[49m\u001b[33;43m\"\u001b[39;49m\u001b[33;43mstop\u001b[39;49m\u001b[33;43m\"\u001b[39;49m\u001b[43m:\u001b[49m\u001b[43m \u001b[49m\u001b[43mstop\u001b[49m\u001b[43m,\u001b[49m\n\u001b[32m    904\u001b[39m \u001b[43m                \u001b[49m\u001b[33;43m\"\u001b[39;49m\u001b[33;43mstore\u001b[39;49m\u001b[33;43m\"\u001b[39;49m\u001b[43m:\u001b[49m\u001b[43m \u001b[49m\u001b[43mstore\u001b[49m\u001b[43m,\u001b[49m\n\u001b[32m    905\u001b[39m \u001b[43m                \u001b[49m\u001b[33;43m\"\u001b[39;49m\u001b[33;43mstream\u001b[39;49m\u001b[33;43m\"\u001b[39;49m\u001b[43m:\u001b[49m\u001b[43m \u001b[49m\u001b[43mstream\u001b[49m\u001b[43m,\u001b[49m\n\u001b[32m    906\u001b[39m \u001b[43m                \u001b[49m\u001b[33;43m\"\u001b[39;49m\u001b[33;43mstream_options\u001b[39;49m\u001b[33;43m\"\u001b[39;49m\u001b[43m:\u001b[49m\u001b[43m \u001b[49m\u001b[43mstream_options\u001b[49m\u001b[43m,\u001b[49m\n\u001b[32m    907\u001b[39m \u001b[43m                \u001b[49m\u001b[33;43m\"\u001b[39;49m\u001b[33;43mtemperature\u001b[39;49m\u001b[33;43m\"\u001b[39;49m\u001b[43m:\u001b[49m\u001b[43m \u001b[49m\u001b[43mtemperature\u001b[49m\u001b[43m,\u001b[49m\n\u001b[32m    908\u001b[39m \u001b[43m                \u001b[49m\u001b[33;43m\"\u001b[39;49m\u001b[33;43mtool_choice\u001b[39;49m\u001b[33;43m\"\u001b[39;49m\u001b[43m:\u001b[49m\u001b[43m \u001b[49m\u001b[43mtool_choice\u001b[49m\u001b[43m,\u001b[49m\n\u001b[32m    909\u001b[39m \u001b[43m                \u001b[49m\u001b[33;43m\"\u001b[39;49m\u001b[33;43mtools\u001b[39;49m\u001b[33;43m\"\u001b[39;49m\u001b[43m:\u001b[49m\u001b[43m \u001b[49m\u001b[43mtools\u001b[49m\u001b[43m,\u001b[49m\n\u001b[32m    910\u001b[39m \u001b[43m                \u001b[49m\u001b[33;43m\"\u001b[39;49m\u001b[33;43mtop_logprobs\u001b[39;49m\u001b[33;43m\"\u001b[39;49m\u001b[43m:\u001b[49m\u001b[43m \u001b[49m\u001b[43mtop_logprobs\u001b[49m\u001b[43m,\u001b[49m\n\u001b[32m    911\u001b[39m \u001b[43m                \u001b[49m\u001b[33;43m\"\u001b[39;49m\u001b[33;43mtop_p\u001b[39;49m\u001b[33;43m\"\u001b[39;49m\u001b[43m:\u001b[49m\u001b[43m \u001b[49m\u001b[43mtop_p\u001b[49m\u001b[43m,\u001b[49m\n\u001b[32m    912\u001b[39m \u001b[43m                \u001b[49m\u001b[33;43m\"\u001b[39;49m\u001b[33;43muser\u001b[39;49m\u001b[33;43m\"\u001b[39;49m\u001b[43m:\u001b[49m\u001b[43m \u001b[49m\u001b[43muser\u001b[49m\u001b[43m,\u001b[49m\n\u001b[32m    913\u001b[39m \u001b[43m            \u001b[49m\u001b[43m}\u001b[49m\u001b[43m,\u001b[49m\n\u001b[32m    914\u001b[39m \u001b[43m            \u001b[49m\u001b[43mcompletion_create_params\u001b[49m\u001b[43m.\u001b[49m\u001b[43mCompletionCreateParams\u001b[49m\u001b[43m,\u001b[49m\n\u001b[32m    915\u001b[39m \u001b[43m        \u001b[49m\u001b[43m)\u001b[49m\u001b[43m,\u001b[49m\n\u001b[32m    916\u001b[39m \u001b[43m        \u001b[49m\u001b[43moptions\u001b[49m\u001b[43m=\u001b[49m\u001b[43mmake_request_options\u001b[49m\u001b[43m(\u001b[49m\n\u001b[32m    917\u001b[39m \u001b[43m            \u001b[49m\u001b[43mextra_headers\u001b[49m\u001b[43m=\u001b[49m\u001b[43mextra_headers\u001b[49m\u001b[43m,\u001b[49m\u001b[43m \u001b[49m\u001b[43mextra_query\u001b[49m\u001b[43m=\u001b[49m\u001b[43mextra_query\u001b[49m\u001b[43m,\u001b[49m\u001b[43m \u001b[49m\u001b[43mextra_body\u001b[49m\u001b[43m=\u001b[49m\u001b[43mextra_body\u001b[49m\u001b[43m,\u001b[49m\u001b[43m \u001b[49m\u001b[43mtimeout\u001b[49m\u001b[43m=\u001b[49m\u001b[43mtimeout\u001b[49m\n\u001b[32m    918\u001b[39m \u001b[43m        \u001b[49m\u001b[43m)\u001b[49m\u001b[43m,\u001b[49m\n\u001b[32m    919\u001b[39m \u001b[43m        \u001b[49m\u001b[43mcast_to\u001b[49m\u001b[43m=\u001b[49m\u001b[43mChatCompletion\u001b[49m\u001b[43m,\u001b[49m\n\u001b[32m    920\u001b[39m \u001b[43m        \u001b[49m\u001b[43mstream\u001b[49m\u001b[43m=\u001b[49m\u001b[43mstream\u001b[49m\u001b[43m \u001b[49m\u001b[38;5;129;43;01mor\u001b[39;49;00m\u001b[43m \u001b[49m\u001b[38;5;28;43;01mFalse\u001b[39;49;00m\u001b[43m,\u001b[49m\n\u001b[32m    921\u001b[39m \u001b[43m        \u001b[49m\u001b[43mstream_cls\u001b[49m\u001b[43m=\u001b[49m\u001b[43mStream\u001b[49m\u001b[43m[\u001b[49m\u001b[43mChatCompletionChunk\u001b[49m\u001b[43m]\u001b[49m\u001b[43m,\u001b[49m\n\u001b[32m    922\u001b[39m \u001b[43m    \u001b[49m\u001b[43m)\u001b[49m\n",
            "\u001b[36mFile \u001b[39m\u001b[32m~/.cache/pypoetry/virtualenvs/intro-to-rag-vf99OxW6-py3.12/lib/python3.12/site-packages/openai/_base_client.py:1242\u001b[39m, in \u001b[36mSyncAPIClient.post\u001b[39m\u001b[34m(self, path, cast_to, body, options, files, stream, stream_cls)\u001b[39m\n\u001b[32m   1228\u001b[39m \u001b[38;5;28;01mdef\u001b[39;00m\u001b[38;5;250m \u001b[39m\u001b[34mpost\u001b[39m(\n\u001b[32m   1229\u001b[39m     \u001b[38;5;28mself\u001b[39m,\n\u001b[32m   1230\u001b[39m     path: \u001b[38;5;28mstr\u001b[39m,\n\u001b[32m   (...)\u001b[39m\u001b[32m   1237\u001b[39m     stream_cls: \u001b[38;5;28mtype\u001b[39m[_StreamT] | \u001b[38;5;28;01mNone\u001b[39;00m = \u001b[38;5;28;01mNone\u001b[39;00m,\n\u001b[32m   1238\u001b[39m ) -> ResponseT | _StreamT:\n\u001b[32m   1239\u001b[39m     opts = FinalRequestOptions.construct(\n\u001b[32m   1240\u001b[39m         method=\u001b[33m\"\u001b[39m\u001b[33mpost\u001b[39m\u001b[33m\"\u001b[39m, url=path, json_data=body, files=to_httpx_files(files), **options\n\u001b[32m   1241\u001b[39m     )\n\u001b[32m-> \u001b[39m\u001b[32m1242\u001b[39m     \u001b[38;5;28;01mreturn\u001b[39;00m cast(ResponseT, \u001b[38;5;28;43mself\u001b[39;49m\u001b[43m.\u001b[49m\u001b[43mrequest\u001b[49m\u001b[43m(\u001b[49m\u001b[43mcast_to\u001b[49m\u001b[43m,\u001b[49m\u001b[43m \u001b[49m\u001b[43mopts\u001b[49m\u001b[43m,\u001b[49m\u001b[43m \u001b[49m\u001b[43mstream\u001b[49m\u001b[43m=\u001b[49m\u001b[43mstream\u001b[49m\u001b[43m,\u001b[49m\u001b[43m \u001b[49m\u001b[43mstream_cls\u001b[49m\u001b[43m=\u001b[49m\u001b[43mstream_cls\u001b[49m\u001b[43m)\u001b[49m)\n",
            "\u001b[36mFile \u001b[39m\u001b[32m~/.cache/pypoetry/virtualenvs/intro-to-rag-vf99OxW6-py3.12/lib/python3.12/site-packages/openai/_base_client.py:919\u001b[39m, in \u001b[36mSyncAPIClient.request\u001b[39m\u001b[34m(self, cast_to, options, remaining_retries, stream, stream_cls)\u001b[39m\n\u001b[32m    916\u001b[39m \u001b[38;5;28;01melse\u001b[39;00m:\n\u001b[32m    917\u001b[39m     retries_taken = \u001b[32m0\u001b[39m\n\u001b[32m--> \u001b[39m\u001b[32m919\u001b[39m \u001b[38;5;28;01mreturn\u001b[39;00m \u001b[38;5;28;43mself\u001b[39;49m\u001b[43m.\u001b[49m\u001b[43m_request\u001b[49m\u001b[43m(\u001b[49m\n\u001b[32m    920\u001b[39m \u001b[43m    \u001b[49m\u001b[43mcast_to\u001b[49m\u001b[43m=\u001b[49m\u001b[43mcast_to\u001b[49m\u001b[43m,\u001b[49m\n\u001b[32m    921\u001b[39m \u001b[43m    \u001b[49m\u001b[43moptions\u001b[49m\u001b[43m=\u001b[49m\u001b[43moptions\u001b[49m\u001b[43m,\u001b[49m\n\u001b[32m    922\u001b[39m \u001b[43m    \u001b[49m\u001b[43mstream\u001b[49m\u001b[43m=\u001b[49m\u001b[43mstream\u001b[49m\u001b[43m,\u001b[49m\n\u001b[32m    923\u001b[39m \u001b[43m    \u001b[49m\u001b[43mstream_cls\u001b[49m\u001b[43m=\u001b[49m\u001b[43mstream_cls\u001b[49m\u001b[43m,\u001b[49m\n\u001b[32m    924\u001b[39m \u001b[43m    \u001b[49m\u001b[43mretries_taken\u001b[49m\u001b[43m=\u001b[49m\u001b[43mretries_taken\u001b[49m\u001b[43m,\u001b[49m\n\u001b[32m    925\u001b[39m \u001b[43m\u001b[49m\u001b[43m)\u001b[49m\n",
            "\u001b[36mFile \u001b[39m\u001b[32m~/.cache/pypoetry/virtualenvs/intro-to-rag-vf99OxW6-py3.12/lib/python3.12/site-packages/openai/_base_client.py:1008\u001b[39m, in \u001b[36mSyncAPIClient._request\u001b[39m\u001b[34m(self, cast_to, options, retries_taken, stream, stream_cls)\u001b[39m\n\u001b[32m   1006\u001b[39m \u001b[38;5;28;01mif\u001b[39;00m remaining_retries > \u001b[32m0\u001b[39m \u001b[38;5;129;01mand\u001b[39;00m \u001b[38;5;28mself\u001b[39m._should_retry(err.response):\n\u001b[32m   1007\u001b[39m     err.response.close()\n\u001b[32m-> \u001b[39m\u001b[32m1008\u001b[39m     \u001b[38;5;28;01mreturn\u001b[39;00m \u001b[38;5;28;43mself\u001b[39;49m\u001b[43m.\u001b[49m\u001b[43m_retry_request\u001b[49m\u001b[43m(\u001b[49m\n\u001b[32m   1009\u001b[39m \u001b[43m        \u001b[49m\u001b[43minput_options\u001b[49m\u001b[43m,\u001b[49m\n\u001b[32m   1010\u001b[39m \u001b[43m        \u001b[49m\u001b[43mcast_to\u001b[49m\u001b[43m,\u001b[49m\n\u001b[32m   1011\u001b[39m \u001b[43m        \u001b[49m\u001b[43mretries_taken\u001b[49m\u001b[43m=\u001b[49m\u001b[43mretries_taken\u001b[49m\u001b[43m,\u001b[49m\n\u001b[32m   1012\u001b[39m \u001b[43m        \u001b[49m\u001b[43mresponse_headers\u001b[49m\u001b[43m=\u001b[49m\u001b[43merr\u001b[49m\u001b[43m.\u001b[49m\u001b[43mresponse\u001b[49m\u001b[43m.\u001b[49m\u001b[43mheaders\u001b[49m\u001b[43m,\u001b[49m\n\u001b[32m   1013\u001b[39m \u001b[43m        \u001b[49m\u001b[43mstream\u001b[49m\u001b[43m=\u001b[49m\u001b[43mstream\u001b[49m\u001b[43m,\u001b[49m\n\u001b[32m   1014\u001b[39m \u001b[43m        \u001b[49m\u001b[43mstream_cls\u001b[49m\u001b[43m=\u001b[49m\u001b[43mstream_cls\u001b[49m\u001b[43m,\u001b[49m\n\u001b[32m   1015\u001b[39m \u001b[43m    \u001b[49m\u001b[43m)\u001b[49m\n\u001b[32m   1017\u001b[39m \u001b[38;5;66;03m# If the response is streamed then we need to explicitly read the response\u001b[39;00m\n\u001b[32m   1018\u001b[39m \u001b[38;5;66;03m# to completion before attempting to access the response text.\u001b[39;00m\n\u001b[32m   1019\u001b[39m \u001b[38;5;28;01mif\u001b[39;00m \u001b[38;5;129;01mnot\u001b[39;00m err.response.is_closed:\n",
            "\u001b[36mFile \u001b[39m\u001b[32m~/.cache/pypoetry/virtualenvs/intro-to-rag-vf99OxW6-py3.12/lib/python3.12/site-packages/openai/_base_client.py:1057\u001b[39m, in \u001b[36mSyncAPIClient._retry_request\u001b[39m\u001b[34m(self, options, cast_to, retries_taken, response_headers, stream, stream_cls)\u001b[39m\n\u001b[32m   1053\u001b[39m \u001b[38;5;66;03m# In a synchronous context we are blocking the entire thread. Up to the library user to run the client in a\u001b[39;00m\n\u001b[32m   1054\u001b[39m \u001b[38;5;66;03m# different thread if necessary.\u001b[39;00m\n\u001b[32m   1055\u001b[39m time.sleep(timeout)\n\u001b[32m-> \u001b[39m\u001b[32m1057\u001b[39m \u001b[38;5;28;01mreturn\u001b[39;00m \u001b[38;5;28;43mself\u001b[39;49m\u001b[43m.\u001b[49m\u001b[43m_request\u001b[49m\u001b[43m(\u001b[49m\n\u001b[32m   1058\u001b[39m \u001b[43m    \u001b[49m\u001b[43moptions\u001b[49m\u001b[43m=\u001b[49m\u001b[43moptions\u001b[49m\u001b[43m,\u001b[49m\n\u001b[32m   1059\u001b[39m \u001b[43m    \u001b[49m\u001b[43mcast_to\u001b[49m\u001b[43m=\u001b[49m\u001b[43mcast_to\u001b[49m\u001b[43m,\u001b[49m\n\u001b[32m   1060\u001b[39m \u001b[43m    \u001b[49m\u001b[43mretries_taken\u001b[49m\u001b[43m=\u001b[49m\u001b[43mretries_taken\u001b[49m\u001b[43m \u001b[49m\u001b[43m+\u001b[49m\u001b[43m \u001b[49m\u001b[32;43m1\u001b[39;49m\u001b[43m,\u001b[49m\n\u001b[32m   1061\u001b[39m \u001b[43m    \u001b[49m\u001b[43mstream\u001b[49m\u001b[43m=\u001b[49m\u001b[43mstream\u001b[49m\u001b[43m,\u001b[49m\n\u001b[32m   1062\u001b[39m \u001b[43m    \u001b[49m\u001b[43mstream_cls\u001b[49m\u001b[43m=\u001b[49m\u001b[43mstream_cls\u001b[49m\u001b[43m,\u001b[49m\n\u001b[32m   1063\u001b[39m \u001b[43m\u001b[49m\u001b[43m)\u001b[49m\n",
            "\u001b[36mFile \u001b[39m\u001b[32m~/.cache/pypoetry/virtualenvs/intro-to-rag-vf99OxW6-py3.12/lib/python3.12/site-packages/openai/_base_client.py:1008\u001b[39m, in \u001b[36mSyncAPIClient._request\u001b[39m\u001b[34m(self, cast_to, options, retries_taken, stream, stream_cls)\u001b[39m\n\u001b[32m   1006\u001b[39m \u001b[38;5;28;01mif\u001b[39;00m remaining_retries > \u001b[32m0\u001b[39m \u001b[38;5;129;01mand\u001b[39;00m \u001b[38;5;28mself\u001b[39m._should_retry(err.response):\n\u001b[32m   1007\u001b[39m     err.response.close()\n\u001b[32m-> \u001b[39m\u001b[32m1008\u001b[39m     \u001b[38;5;28;01mreturn\u001b[39;00m \u001b[38;5;28;43mself\u001b[39;49m\u001b[43m.\u001b[49m\u001b[43m_retry_request\u001b[49m\u001b[43m(\u001b[49m\n\u001b[32m   1009\u001b[39m \u001b[43m        \u001b[49m\u001b[43minput_options\u001b[49m\u001b[43m,\u001b[49m\n\u001b[32m   1010\u001b[39m \u001b[43m        \u001b[49m\u001b[43mcast_to\u001b[49m\u001b[43m,\u001b[49m\n\u001b[32m   1011\u001b[39m \u001b[43m        \u001b[49m\u001b[43mretries_taken\u001b[49m\u001b[43m=\u001b[49m\u001b[43mretries_taken\u001b[49m\u001b[43m,\u001b[49m\n\u001b[32m   1012\u001b[39m \u001b[43m        \u001b[49m\u001b[43mresponse_headers\u001b[49m\u001b[43m=\u001b[49m\u001b[43merr\u001b[49m\u001b[43m.\u001b[49m\u001b[43mresponse\u001b[49m\u001b[43m.\u001b[49m\u001b[43mheaders\u001b[49m\u001b[43m,\u001b[49m\n\u001b[32m   1013\u001b[39m \u001b[43m        \u001b[49m\u001b[43mstream\u001b[49m\u001b[43m=\u001b[49m\u001b[43mstream\u001b[49m\u001b[43m,\u001b[49m\n\u001b[32m   1014\u001b[39m \u001b[43m        \u001b[49m\u001b[43mstream_cls\u001b[49m\u001b[43m=\u001b[49m\u001b[43mstream_cls\u001b[49m\u001b[43m,\u001b[49m\n\u001b[32m   1015\u001b[39m \u001b[43m    \u001b[49m\u001b[43m)\u001b[49m\n\u001b[32m   1017\u001b[39m \u001b[38;5;66;03m# If the response is streamed then we need to explicitly read the response\u001b[39;00m\n\u001b[32m   1018\u001b[39m \u001b[38;5;66;03m# to completion before attempting to access the response text.\u001b[39;00m\n\u001b[32m   1019\u001b[39m \u001b[38;5;28;01mif\u001b[39;00m \u001b[38;5;129;01mnot\u001b[39;00m err.response.is_closed:\n",
            "\u001b[36mFile \u001b[39m\u001b[32m~/.cache/pypoetry/virtualenvs/intro-to-rag-vf99OxW6-py3.12/lib/python3.12/site-packages/openai/_base_client.py:1057\u001b[39m, in \u001b[36mSyncAPIClient._retry_request\u001b[39m\u001b[34m(self, options, cast_to, retries_taken, response_headers, stream, stream_cls)\u001b[39m\n\u001b[32m   1053\u001b[39m \u001b[38;5;66;03m# In a synchronous context we are blocking the entire thread. Up to the library user to run the client in a\u001b[39;00m\n\u001b[32m   1054\u001b[39m \u001b[38;5;66;03m# different thread if necessary.\u001b[39;00m\n\u001b[32m   1055\u001b[39m time.sleep(timeout)\n\u001b[32m-> \u001b[39m\u001b[32m1057\u001b[39m \u001b[38;5;28;01mreturn\u001b[39;00m \u001b[38;5;28;43mself\u001b[39;49m\u001b[43m.\u001b[49m\u001b[43m_request\u001b[49m\u001b[43m(\u001b[49m\n\u001b[32m   1058\u001b[39m \u001b[43m    \u001b[49m\u001b[43moptions\u001b[49m\u001b[43m=\u001b[49m\u001b[43moptions\u001b[49m\u001b[43m,\u001b[49m\n\u001b[32m   1059\u001b[39m \u001b[43m    \u001b[49m\u001b[43mcast_to\u001b[49m\u001b[43m=\u001b[49m\u001b[43mcast_to\u001b[49m\u001b[43m,\u001b[49m\n\u001b[32m   1060\u001b[39m \u001b[43m    \u001b[49m\u001b[43mretries_taken\u001b[49m\u001b[43m=\u001b[49m\u001b[43mretries_taken\u001b[49m\u001b[43m \u001b[49m\u001b[43m+\u001b[49m\u001b[43m \u001b[49m\u001b[32;43m1\u001b[39;49m\u001b[43m,\u001b[49m\n\u001b[32m   1061\u001b[39m \u001b[43m    \u001b[49m\u001b[43mstream\u001b[49m\u001b[43m=\u001b[49m\u001b[43mstream\u001b[49m\u001b[43m,\u001b[49m\n\u001b[32m   1062\u001b[39m \u001b[43m    \u001b[49m\u001b[43mstream_cls\u001b[49m\u001b[43m=\u001b[49m\u001b[43mstream_cls\u001b[49m\u001b[43m,\u001b[49m\n\u001b[32m   1063\u001b[39m \u001b[43m\u001b[49m\u001b[43m)\u001b[49m\n",
            "\u001b[36mFile \u001b[39m\u001b[32m~/.cache/pypoetry/virtualenvs/intro-to-rag-vf99OxW6-py3.12/lib/python3.12/site-packages/openai/_base_client.py:1023\u001b[39m, in \u001b[36mSyncAPIClient._request\u001b[39m\u001b[34m(self, cast_to, options, retries_taken, stream, stream_cls)\u001b[39m\n\u001b[32m   1020\u001b[39m         err.response.read()\n\u001b[32m   1022\u001b[39m     log.debug(\u001b[33m\"\u001b[39m\u001b[33mRe-raising status error\u001b[39m\u001b[33m\"\u001b[39m)\n\u001b[32m-> \u001b[39m\u001b[32m1023\u001b[39m     \u001b[38;5;28;01mraise\u001b[39;00m \u001b[38;5;28mself\u001b[39m._make_status_error_from_response(err.response) \u001b[38;5;28;01mfrom\u001b[39;00m\u001b[38;5;250m \u001b[39m\u001b[38;5;28;01mNone\u001b[39;00m\n\u001b[32m   1025\u001b[39m \u001b[38;5;28;01mreturn\u001b[39;00m \u001b[38;5;28mself\u001b[39m._process_response(\n\u001b[32m   1026\u001b[39m     cast_to=cast_to,\n\u001b[32m   1027\u001b[39m     options=options,\n\u001b[32m   (...)\u001b[39m\u001b[32m   1031\u001b[39m     retries_taken=retries_taken,\n\u001b[32m   1032\u001b[39m )\n",
            "\u001b[31mRateLimitError\u001b[39m: Error code: 429 - {'error': {'message': 'You exceeded your current quota, please check your plan and billing details. For more information on this error, read the docs: https://platform.openai.com/docs/guides/error-codes/api-errors.', 'type': 'insufficient_quota', 'param': None, 'code': 'insufficient_quota'}}"
          ]
        }
      ],
      "source": [
        "from langchain_openai import ChatOpenAI\n",
        "\n",
        "prompt_template = \"\"\"Describe the image in detail. For context,\n",
        "                  the image is part of a research paper explaining the transformers\n",
        "                  architecture. Be specific about graphs, such as bar plots.\"\"\"\n",
        "messages = [\n",
        "    (\n",
        "        \"user\",\n",
        "        [\n",
        "            {\"type\": \"text\", \"text\": prompt_template},\n",
        "            {\n",
        "                \"type\": \"image_url\",\n",
        "                \"image_url\": {\"url\": \"data:image/jpeg;base64,{image}\"},\n",
        "            },\n",
        "        ],\n",
        "    )\n",
        "]\n",
        "\n",
        "prompt = ChatPromptTemplate.from_messages(messages)\n",
        "\n",
        "chain = prompt | ChatOpenAI(model=\"gpt-4o-mini\") | StrOutputParser()\n",
        "\n",
        "\n",
        "image_summaries = chain.batch(images)"
      ]
    },
    {
      "cell_type": "code",
      "execution_count": null,
      "id": "laF_8o1gzHT0",
      "metadata": {
        "colab": {
          "base_uri": "https://localhost:8080/"
        },
        "id": "laF_8o1gzHT0",
        "outputId": "f82547af-0885-4d78-9f50-940dd9e6551e"
      },
      "outputs": [
        {
          "data": {
            "text/plain": [
              "['The image presents a schematic representation of the transformer architecture, which is fundamental in natural language processing and machine learning. Here’s a detailed description of its components:\\n\\n1. **Overall Structure**: The diagram is divided into two main sections, representing the encoder (on the left) and the decoder (on the right) of the transformer model. Both sections involve repeated layers denoted as \\\\(N_x\\\\), indicating that these layers are stacked multiple times.\\n\\n2. **Positional Encoding**: At the bottom of both sections, there are blocks labeled \"Positional Encoding.\" This component is crucial as it adds information about the position of tokens in the sequence, enabling the model to understand the order of inputs.\\n\\n3. **Input and Output Embeddings**: Below the positional encoding blocks, there are two labeled boxes: “Input Embedding” for the encoder and “Output Embedding” for the decoder. These embeddings transform the input tokens into continuous vector representations.\\n\\n4. **Encoder Side**:\\n   - **Multi-Head Attention**: The first major block labeled \"Multi-Head Attention\" is responsible for capturing relationships between different tokens in the input sequence. It is connected to an \"Add & Norm\" block, which combines its output with the original input and normalizes it.\\n   - **Feed Forward**: Following this is the \"Feed Forward\" block, where a fully connected neural network processes the data further. This is also followed by another \"Add & Norm\" layer, ensuring that the outputs are again combined with the original inputs.\\n   - This structure is repeated \\\\(N_x\\\\) times to create multiple layers.\\n\\n5. **Decoder Side**:\\n   - **Masked Multi-Head Attention**: Similar to the encoder, the decoder starts with a \"Masked Multi-Head Attention\" block. The masking is crucial to ensure that the predictions for a particular position can depend only on the known outputs before it.\\n   - **Feed Forward**: It also includes a \"Feed Forward\" block followed by an \"Add & Norm\" block.\\n   - The decoder then connects to the output probabilities through a \"Linear\" layer followed by a \"Softmax\" layer, which converts the final output into probabilities for each token in the vocabulary.\\n\\n6. **Arrows and Flow**: The diagram uses arrows to indicate the flow of data throughout the architecture, showing how inputs are transformed and passed between layers.\\n\\nOverall, the schematic effectively illustrates the flow of information through the transformer architecture, highlighting the importance of attention mechanisms and normalization in processing sequences.',\n",
              " 'The image depicts two main concepts from the transformer architecture: **Scaled Dot-Product Attention** and **Multi-Head Attention**.\\n\\n### Scaled Dot-Product Attention (Left Side)\\n1. **Structure**: \\n   - The flow starts with three inputs represented as **Q** (Query), **K** (Key), and **V** (Value).\\n   - The first operation is a **MatMul** (matrix multiplication) between Q and K, producing a score.\\n   - This score is then passed to a **Scale** component, which adjusts the magnitude of the scores.\\n   - An optional **Mask** is applied next to prevent certain positions from being attended to, often used in tasks like language modeling.\\n   - The scores are then passed through a **SoftMax** layer to convert them into probabilities.\\n   - Finally, another **MatMul** operation takes the output from SoftMax and multiplies it by V to produce the final attention output.\\n\\n### Multi-Head Attention (Right Side)\\n1. **Structure**:\\n   - This section builds upon the scaled dot-product attention.\\n   - It begins with three linear transformations applied to V, K, and Q, indicated by three **Linear** blocks.\\n   - These transformed vectors are then processed by the **Scaled Dot-Product Attention** block (highlighted in purple).\\n   - The outputs from multiple attention heads are concatenated using the **Concat** operation.\\n   - The final output from this multi-head attention structure is connected to another **Linear** layer.\\n\\n### Visual Elements:\\n- **Color Coding**: Different components are color-coded for clarity, with purple for the main attention mechanism and other colors for supporting operations.\\n- **Arrows**: Directional arrows indicate the flow of data through the various operations, demonstrating how inputs are transformed at each stage.\\n- **Labels**: Clear labels for each component help in understanding the functionality of each part of the architecture.\\n\\nThis diagram effectively illustrates how attention mechanisms are implemented in transformers, showcasing the sequential and parallel processing involved.',\n",
              " 'The image depicts a diagram illustrating the architecture of the transformer model, specifically focusing on the scaled dot-product attention mechanism.\\n\\n### Components:\\n\\n1. **Input Vectors (V, K, Q)**:\\n   - At the bottom of the diagram, there are three labeled boxes: **V** (Values), **K** (Keys), and **Q** (Queries). Each box is associated with a \"Linear\" label above it, indicating that these inputs undergo a linear transformation.\\n\\n2. **Linear Transformations**:\\n   - Above each of the V, K, and Q boxes, there are \"Linear\" labels. This signifies that each input vector is processed through a linear layer, typically involving a weight matrix multiplication and an optional bias.\\n\\n3. **Scaled Dot-Product Attention**:\\n   - Central to the diagram is a larger box labeled **Scaled Dot-Product Attention**, highlighted in purple. This is the core operation that computes attention scores based on the queries, keys, and values.\\n\\n4. **Concatenation**:\\n   - Above the attention box, there is a \"Concat\" box, suggesting that the outputs from the attention mechanism may be concatenated with other features or outputs in the subsequent layers.\\n\\n5. **Flow Arrows**:\\n   - Several arrows indicate the flow of data:\\n     - Arrows point upwards from the linear transformations (V, K, Q) to the scaled dot-product attention box, showing that these inputs are fed into the attention mechanism.\\n     - There are also arrows pointing from the attention box to the Concatenation box, indicating that the output of the attention mechanism is directed toward concatenation.\\n\\n6. **Output (h)**:\\n   - An arrow extends from the attention box to a label **h**, which likely represents the output of the attention mechanism or the hidden state that will be used in further processing.\\n\\n### Summary:\\nThe diagram effectively illustrates the key components and flow of information in the scaled dot-product attention mechanism of the transformer architecture, highlighting the importance of linear transformations and the interaction between inputs and the attention mechanism.',\n",
              " 'The image appears to illustrate a component of the transformer architecture, likely focusing on attention mechanisms. It features a series of words arranged vertically and horizontally, representing tokens in a sequence. \\n\\n1. **Token Representation**: The words are aligned in rows and columns, with some words repeated, suggesting the model processes multiple input sequences. Key tokens like \"making,\" \"the,\" \"registration,\" and \"more difficult\" stand out, possibly indicating significant elements in the context.\\n\\n2. **Attention Weights**: There are colored lines connecting specific words, indicating the attention weights assigned during processing. The lines vary in thickness and color, suggesting different levels of attention or importance that the model attributes to these tokens in relation to others. For instance, thicker lines might denote stronger relationships, while thinner ones indicate weaker connections.\\n\\n3. **Special Tokens**: The sequence includes special tokens such as `<EOS>` (end of sequence) and `<pad>` (padding), which are common in transformer architectures for managing input lengths and denoting sequence boundaries.\\n\\n4. **Layout and Design**: The layout is organized and structured, with a clear focus on how different tokens interact. The use of color helps distinguish between different types of connections or relationships among the words.\\n\\nOverall, the image serves to visually represent how the transformer model attends to different parts of an input sequence, emphasizing the relationships between specific tokens as part of the model\\'s processing mechanism.',\n",
              " 'The image depicts a visual representation of the attention mechanism commonly used in transformer architectures. It features a series of words arranged in a horizontal layout, each accompanied by a connecting line that illustrates the attention weights between them.\\n\\n### Key Features:\\n\\n1. **Words/Tokens**: The image contains a sequence of words, which seem to form part of a sentence. These words are positioned in a linear fashion, creating a clear progression from left to right.\\n\\n2. **Attention Lines**: \\n   - **Lines and Colors**: Various lines connect the words, indicating how attention is distributed across different tokens. The lines are primarily in shades of purple, with varying opacities.\\n   - **Thicker Lines**: Some lines are thicker, suggesting stronger attention weights between specific tokens. For example, connections from the word \"Law\" to multiple other words indicate its importance in the context.\\n   - **Directionality**: The lines originate from words on the left and connect to those on the right, representing how each word influences others in the sequence.\\n\\n3. **Special Tokens**: \\n   - There are tokens such as `<EOS>` (End of Sequence) and `<pad>` (padding), which indicate the beginning and end of the processing sequence. These are positioned at the far right, contributing to the overall structure.\\n\\n4. **Layout**: The layout appears somewhat tree-like, with several branches stemming from particular words, showing how certain words (like \"Law\" and \"application\") interact with multiple other tokens.\\n\\nThis visual effectively conveys how the transformer architecture utilizes attention mechanisms to weigh the relevance of different tokens in a sequence, which is crucial for understanding contextual relationships in language processing.',\n",
              " 'The image illustrates a visualization related to the transformer architecture, likely depicting attention mechanisms. It features several words arranged in two rows, with connections represented by lines between them.\\n\\n### Description:\\n\\n1. **Words**:\\n   - The left side contains a sequence of words: \"The,\" \"Law,\" \"will,\" \"never,\" \"be,\" \"perfect,\" \"but,\" \"its,\" \"application,\" \"should,\" \"be,\" \"just.\"\\n   - The right side includes: \"this,\" \"is,\" \"what,\" \"we,\" \"are,\" \"missing,\" \"in,\" \"my,\" \"opinion,\" along with special tokens \"<EOS>\" and \"<pad>\".\\n\\n2. **Connections**:\\n   - There are multiple green lines connecting the words from the left and right sides. The lines vary in thickness, indicating the strength of attention or relevance between the words. \\n   - Thicker lines likely represent stronger connections, suggesting that those word pairs have a higher attention score.\\n\\n3. **Color and Transparency**:\\n   - The lines are in different shades of green, with some being more opaque and others lighter, which may indicate varying levels of significance in the attention mechanism.\\n\\n4. **Layout**:\\n   - The words are arranged in a horizontal layout, with connections crisscrossing between the two groups, visually representing how the transformer model attends to different parts of the input sequence.\\n\\nThis visualization effectively showcases how a transformer model processes and relates different words within a sequence, emphasizing the attention mechanism\\'s role in understanding context and relationships within language data.',\n",
              " 'The image appears to illustrate concepts related to the transformer\\'s attention mechanism, commonly used in natural language processing. \\n\\n### Key Features of the Image:\\n\\n1. **Text Representation**: \\n   - The image consists of a series of words arranged in a linear sequence, representing a sentence or phrase. The words include terms like \"The,\" \"Law,\" \"will,\" \"never,\" and so on, extending to phrases like \"in my opinion\" and special tokens such as `<EOS>` (end of sequence) and `<pad>` (padding).\\n\\n2. **Connections**: \\n   - There are numerous lines connecting the words across the two sections of text. These lines vary in thickness and color intensity, indicating the strength of attention between the words.\\n   - The thicker, darker red lines suggest a stronger relationship or attention between specific words, while the lighter lines indicate weaker relationships.\\n\\n3. **Attention Mechanism**:\\n   - The lines likely represent how the transformer\\'s attention mechanism works, showing which words pay attention to others during processing. For example, a word on the left may direct its attention toward multiple words on the right, indicating contextual relationships or dependencies.\\n\\n4. **Layout**:\\n   - The words are organized in a two-row format, with the first row containing the initial part of the sequence and the second row representing subsequent words. This layout emphasizes the connections across different parts of the sentence.\\n\\n5. **Implications**:\\n   - This visual representation is intended to help readers understand how transformers manage relationships between words through attention, which is crucial for tasks such as translation, summarization, or question answering.\\n\\nOverall, the image serves as a visual aid to explain the complex interactions among words in a sentence as understood by transformer models.']"
            ]
          },
          "execution_count": 18,
          "metadata": {},
          "output_type": "execute_result"
        }
      ],
      "source": [
        "image_summaries"
      ]
    },
    {
      "cell_type": "code",
      "execution_count": null,
      "id": "aHNDEd_2txQI",
      "metadata": {
        "colab": {
          "base_uri": "https://localhost:8080/",
          "height": 143
        },
        "id": "aHNDEd_2txQI",
        "outputId": "fbd7c64e-f463-4203-e1ca-f79c7426aaf6"
      },
      "outputs": [
        {
          "name": "stdout",
          "output_type": "stream",
          "text": [
            "The image depicts two main concepts from the transformer architecture: **Scaled Dot-Product Attention** and **Multi-Head Attention**.\n",
            "\n",
            "### Scaled Dot-Product Attention (Left Side)\n",
            "1. **Structure**: \n",
            "   - The flow starts with three inputs represented as **Q** (Query), **K** (Key), and **V** (Value).\n",
            "   - The first operation is a **MatMul** (matrix multiplication) between Q and K, producing a score.\n",
            "   - This score is then passed to a **Scale** component, which adjusts the magnitude of the scores.\n",
            "   - An optional **Mask** is applied next to prevent certain positions from being attended to, often used in tasks like language modeling.\n",
            "   - The scores are then passed through a **SoftMax** layer to convert them into probabilities.\n",
            "   - Finally, another **MatMul** operation takes the output from SoftMax and multiplies it by V to produce the final attention output.\n",
            "\n",
            "### Multi-Head Attention (Right Side)\n",
            "1. **Structure**:\n",
            "   - This section builds upon the scaled dot-product attention.\n",
            "   - It begins with three linear transformations applied to V, K, and Q, indicated by three **Linear** blocks.\n",
            "   - These transformed vectors are then processed by the **Scaled Dot-Product Attention** block (highlighted in purple).\n",
            "   - The outputs from multiple attention heads are concatenated using the **Concat** operation.\n",
            "   - The final output from this multi-head attention structure is connected to another **Linear** layer.\n",
            "\n",
            "### Visual Elements:\n",
            "- **Color Coding**: Different components are color-coded for clarity, with purple for the main attention mechanism and other colors for supporting operations.\n",
            "- **Arrows**: Directional arrows indicate the flow of data through the various operations, demonstrating how inputs are transformed at each stage.\n",
            "- **Labels**: Clear labels for each component help in understanding the functionality of each part of the architecture.\n",
            "\n",
            "This diagram effectively illustrates how attention mechanisms are implemented in transformers, showcasing the sequential and parallel processing involved.\n"
          ]
        }
      ],
      "source": [
        "print(image_summaries[1])"
      ]
    },
    {
      "cell_type": "markdown",
      "id": "67b030d4-2ac5-41b6-9245-fc3ba5771d87",
      "metadata": {
        "id": "67b030d4-2ac5-41b6-9245-fc3ba5771d87"
      },
      "source": [
        "## Load data and summaries to vectorstore"
      ]
    },
    {
      "cell_type": "markdown",
      "id": "bb4d2379",
      "metadata": {
        "id": "bb4d2379"
      },
      "source": [
        "### Create the vectorstore"
      ]
    },
    {
      "cell_type": "code",
      "execution_count": null,
      "id": "9d8d7a34-69e0-49a2-b9f7-1a4e7b26d78f",
      "metadata": {
        "id": "9d8d7a34-69e0-49a2-b9f7-1a4e7b26d78f",
        "outputId": "c91d7a77-d820-446f-a751-15f5d4668e8f"
      },
      "outputs": [
        {
          "name": "stderr",
          "output_type": "stream",
          "text": [
            "/var/folders/lh/7g2mv_x16p79z2rd9jqxqx_w0000gn/T/ipykernel_92745/278287695.py:9: LangChainDeprecationWarning: The class `OpenAIEmbeddings` was deprecated in LangChain 0.0.9 and will be removed in 1.0. An updated version of the class exists in the :class:`~langchain-openai package and should be used instead. To use it run `pip install -U :class:`~langchain-openai` and import as `from :class:`~langchain_openai import OpenAIEmbeddings``.\n",
            "  vectorstore = Chroma(collection_name=\"multi_modal_rag\", embedding_function=OpenAIEmbeddings())\n",
            "/var/folders/lh/7g2mv_x16p79z2rd9jqxqx_w0000gn/T/ipykernel_92745/278287695.py:9: LangChainDeprecationWarning: The class `Chroma` was deprecated in LangChain 0.2.9 and will be removed in 1.0. An updated version of the class exists in the :class:`~langchain-chroma package and should be used instead. To use it run `pip install -U :class:`~langchain-chroma` and import as `from :class:`~langchain_chroma import Chroma``.\n",
            "  vectorstore = Chroma(collection_name=\"multi_modal_rag\", embedding_function=OpenAIEmbeddings())\n"
          ]
        }
      ],
      "source": [
        "import uuid\n",
        "from langchain.vectorstores import Chroma\n",
        "from langchain.storage import InMemoryStore\n",
        "from langchain_core.document import Document\n",
        "from langchain_openai import OpenAIEmbeddings\n",
        "from langchain.retrievers.multi_vector import MultiVectorRetriever\n",
        "\n",
        "# The vectorstore to use to index the child chunks\n",
        "vectorstore = Chroma(collection_name=\"multi_modal_rag\", embedding_function=OpenAIEmbeddings())\n",
        "\n",
        "# The storage layer for the parent documents\n",
        "store = InMemoryStore()\n",
        "id_key = \"doc_id\"\n",
        "\n",
        "# The retriever (empty to start)\n",
        "retriever = MultiVectorRetriever(\n",
        "    vectorstore=vectorstore,\n",
        "    docstore=store,\n",
        "    id_key=id_key,\n",
        ")"
      ]
    },
    {
      "cell_type": "markdown",
      "id": "2bf26669",
      "metadata": {
        "id": "2bf26669"
      },
      "source": [
        "### Load the summaries and link the to the original data"
      ]
    },
    {
      "cell_type": "code",
      "execution_count": null,
      "id": "1792e683",
      "metadata": {
        "id": "1792e683"
      },
      "outputs": [],
      "source": [
        "# Add texts\n",
        "doc_ids = [str(uuid.uuid4()) for _ in texts]\n",
        "summary_texts = [\n",
        "    Document(page_content=summary, metadata={id_key: doc_ids[i]}) for i, summary in enumerate(text_summaries)\n",
        "]\n",
        "retriever.vectorstore.add_documents(summary_texts)\n",
        "retriever.docstore.mset(list(zip(doc_ids, texts)))\n",
        "\n",
        "# Add tables\n",
        "table_ids = [str(uuid.uuid4()) for _ in tables]\n",
        "summary_tables = [\n",
        "    Document(page_content=summary, metadata={id_key: table_ids[i]}) for i, summary in enumerate(table_summaries)\n",
        "]\n",
        "retriever.vectorstore.add_documents(summary_tables)\n",
        "retriever.docstore.mset(list(zip(table_ids, tables)))\n",
        "\n",
        "# Add image summaries\n",
        "img_ids = [str(uuid.uuid4()) for _ in images]\n",
        "summary_img = [\n",
        "    Document(page_content=summary, metadata={id_key: img_ids[i]}) for i, summary in enumerate(image_summaries)\n",
        "]\n",
        "retriever.vectorstore.add_documents(summary_img)\n",
        "retriever.docstore.mset(list(zip(img_ids, images)))"
      ]
    },
    {
      "cell_type": "markdown",
      "id": "4b45fb81-46b1-426e-aa2c-01aed4eac700",
      "metadata": {
        "id": "4b45fb81-46b1-426e-aa2c-01aed4eac700"
      },
      "source": [
        "### Check retrieval"
      ]
    },
    {
      "cell_type": "code",
      "execution_count": null,
      "id": "1bea75fe-85af-4955-a80c-6e0b44a8e215",
      "metadata": {
        "id": "1bea75fe-85af-4955-a80c-6e0b44a8e215"
      },
      "outputs": [],
      "source": [
        "# Retrieve\n",
        "docs = retriever.invoke(\n",
        "    \"who are the authors of the paper?\"\n",
        ")"
      ]
    },
    {
      "cell_type": "code",
      "execution_count": null,
      "id": "a0290c78",
      "metadata": {
        "id": "a0290c78",
        "outputId": "d19cdecf-c9e6-4b40-f996-06041a7f0ee4"
      },
      "outputs": [
        {
          "name": "stdout",
          "output_type": "stream",
          "text": [
            "[36] Christian Szegedy, Vincent Vanhoucke, Sergey Ioffe, Jonathon Shlens, and Zbigniew Wojna. Rethinking the inception architecture for computer vision. CoRR, abs/1512.00567, 2015.\n",
            "\n",
            "[37] Vinyals & Kaiser, Koo, Petrov, Sutskever, and Hinton. Grammar as a foreign language. In Advances in Neural Information Processing Systems, 2015.\n",
            "\n",
            "[38] Yonghui Wu, Mike Schuster, Zhifeng Chen, Quoc V Le, Mohammad Norouzi, Wolfgang Macherey, Maxim Krikun, Yuan Cao, Qin Gao, Klaus Macherey, et al. Google’s neural machine translation system: Bridging the gap between human and machine translation. arXiv preprint arXiv:1609.08144, 2016.\n",
            "\n",
            "[39] Jie Zhou, Ying Cao, Xuguang Wang, Peng Li, and Wei Xu. Deep recurrent models with fast-forward connections for neural machine translation. CoRR, abs/1606.04199, 2016.\n",
            "\n",
            "[40] Muhua Zhu, Yue Zhang, Wenliang Chen, Min Zhang, and Jingbo Zhu. Fast and accurate shift-reduce constituent parsing. In Proceedings of the 51st Annual Meeting of the ACL (Volume 1: Long Papers), pages 434–443. ACL, August 2013.\n",
            "\n",
            "12\n",
            "\n",
            "Attention Visualizations\n",
            "\n",
            "2 i i= RE 3 2 i 2 = = 2c 3 2 £ om % S GBANAAAA FS fe} oD DOD *H o Poe Q €oe2s oyzveyzuyeys 2SE @T_ EFESeSsEzESHR PL, SSSe TZSsSsggsg S=@LEGDEwB ECC oF aAeC RGN ESLSSSEESC -.VvVVVV VV HMO KEBOCSRSHLHOD QKXRDXE EO “A AAAAAA “= <2 £ 8 FogesouggsS ss P25 5273 Qvryxapvs\\3 es sa 5 Seeneteecorzgrs 2g ogs aaa oO 2 Sere =~ aA o ° 8 ueeeogoa0 o © £ 5 ane) vvvvv Vv £ eg € ° 2 Ss v Do <¢ 8 & |\n",
            "\n",
            "Figure 3: An example of the attention mechanism following long-distance dependencies in the encoder self-attention in layer 5 of 6. Many of the attention heads attend to a distant dependency of the verb ‘making’, completing the phrase ‘making...more difficult’. Attentions here shown only for the word ‘making’. Different colors represent different heads. Best viewed in color.\n",
            "\n",
            "13\n",
            "\n",
            "<ped> <ped> UOIUIdO == Aw ul Bulssiw ale « aM = yeum = S| sy ysnf pinoys = uoluldo Aw ul Bulssiw ae ysnf 38q Pinoys uojeojdde si! nq poped 38q JaAou Me] au <ped> <SOa> uojuido Aw ul Bulssiuw oe aM yeum S| SIU} ysnf 3q Pinoys uojeodde Ss}! ynq yoped 3q 4eAeuU meq auL <ped> <SOa> uo|uldo Aw ul Bulssiuw oe eM yeum S| Siu} ysnf 3q Pinoys uoyeoydde si! ynq yoped 3q aul\n",
            "\n",
            "Figure 4: Two attention heads, also in layer 5 of 6, apparently involved in anaphora resolution. Top: Full attentions for head 5. Bottom: Isolated attentions from just the word ‘its’ for attention heads 5 and 6. Note that the attentions are very sharp for this word.\n",
            "\n",
            "14\n",
            "\n",
            "<ped> <ped> <SOH>\\ <SO3> uoluido = uoluido Aw Aw yeyum S| sim pi—f}— 4 -ysn{ | Pinoys «+ pinoys uoeoydde uojeodde SHI S$}! | ya | nga ynq poped pooped aq aq Janou™ J@AoU WIM TIM me) me) aul “OU\n",
            "\n",
            "<ped> <ped> so <0 Uo|UIdO uoluido Aw Aw ul ul Bulssiw Bulssiw ae ale aM am yeuM yeum S| S| sty} # sly -—A - el eq eq pinoys « pinoys uojeoidde ee Ss}! Ss}! nq ee popod a —_ ee eq eq JOAoU JOAoU IW IW rr auL auL\n",
            "\n",
            "Figure 5: Many of the attention heads exhibit behaviour that seems related to the structure of the sentence. We give two such examples above, from two different heads from the encoder self-attention at layer 5 of 6. The heads clearly learned to perform different tasks.\n",
            "\n",
            "15\n",
            "\n",
            "--------------------------------------------------------------------------------\n",
            "Parser Training WSJ 23 F1 Vinyals & Kaiser el al. (2014) [37] WSJ only, discriminative 88.3 Petrov et al. (2006) [29] WSJ only, discriminative 90.4 Zhu et al. (2013) [40] WSJ only, discriminative 90.4 Dyer et al. (2016) [8] WSJ only, discriminative 91.7 Transformer (4 layers) WSJ only, discriminative 91.3 Zhu et al. (2013) [40] semi-supervised 91.3 Huang & Harper (2009) [14] semi-supervised 91.3 McClosky et al. (2006) [26] semi-supervised 92.1 Vinyals & Kaiser el al. (2014) [37] semi-supervised 92.1 Transformer (4 layers) semi-supervised 92.7 Luong et al. (2015) [23] multi-task 93.0 Dyer et al. (2016) [8] generative 93.3\n",
            "\n",
            "--------------------------------------------------------------------------------\n",
            "3\n",
            "\n",
            "2023\n",
            "\n",
            "2\n",
            "\n",
            "0\n",
            "\n",
            "2\n",
            "\n",
            "g u A 2 ] L C . s c [ 7 v 2 6 7 3 0 . 6 0\n",
            "\n",
            "7\n",
            "\n",
            "1\n",
            "\n",
            ":\n",
            "\n",
            "v\n",
            "\n",
            "arXiv\n",
            "\n",
            "i\n",
            "\n",
            "X\n",
            "\n",
            "r\n",
            "\n",
            "a\n",
            "\n",
            "Provided proper attribution is provided, Google hereby grants permission to reproduce the tables and figures in this paper solely for use in journalistic or scholarly works.\n",
            "\n",
            "Attention Is All You Need\n",
            "\n",
            "Ashish Vaswani∗\n",
            "\n",
            "Google Brain\n",
            "\n",
            "avaswani@google.com\n",
            "\n",
            "Noam Shazeer∗ Google Brain noam@google.com\n",
            "\n",
            "Niki Parmar∗ Google Research nikip@google.com\n",
            "\n",
            "Jakob Uszkoreit∗\n",
            "\n",
            "Google Research usz@google.com\n",
            "\n",
            "Llion Jones∗\n",
            "\n",
            "Google Research llion@google.com\n",
            "\n",
            "Aidan N. Gomez∗ † University of Toronto aidan@cs.toronto.edu\n",
            "\n",
            "Łukasz Kaiser∗ Google Brain lukaszkaiser@google.com\n",
            "\n",
            "Illia Polosukhin∗ ‡\n",
            "\n",
            "illia.polosukhin@gmail.com\n",
            "\n",
            "Abstract\n",
            "\n",
            "The dominant sequence transduction models are based on complex recurrent or convolutional neural networks that include an encoder and a decoder. The best performing models also connect the encoder and decoder through an attention mechanism. We propose a new simple network architecture, the Transformer, based solely on attention mechanisms, dispensing with recurrence and convolutions entirely. Experiments on two machine translation tasks show these models to be superior in quality while being more parallelizable and requiring significantly less time to train. Our model achieves 28.4 BLEU on the WMT 2014 English- to-German translation task, improving over the existing best results, including ensembles, by over 2 BLEU. On the WMT 2014 English-to-French translation task, our model establishes a new single-model state-of-the-art BLEU score of 41.8 after training for 3.5 days on eight GPUs, a small fraction of the training costs of the best models from the literature. We show that the Transformer generalizes well to other tasks by applying it successfully to English constituency parsing both with large and limited training data.\n",
            "\n",
            "∗Equal contribution. Listing order is random. Jakob proposed replacing RNNs with self-attention and started the effort to evaluate this idea. Ashish, with Illia, designed and implemented the first Transformer models and has been crucially involved in every aspect of this work. Noam proposed scaled dot-product attention, multi-head attention and the parameter-free position representation and became the other person involved in nearly every detail. Niki designed, implemented, tuned and evaluated countless model variants in our original codebase and tensor2tensor. Llion also experimented with novel model variants, was responsible for our initial codebase, and efficient inference and visualizations. Lukasz and Aidan spent countless long days designing various parts of and implementing tensor2tensor, replacing our earlier codebase, greatly improving results and massively accelerating our research.\n",
            "\n",
            "†Work performed while at Google Brain.\n",
            "\n",
            "‡Work performed while at Google Research.\n",
            "\n",
            "31st Conference on Neural Information Processing Systems (NIPS 2017), Long Beach, CA, USA.\n",
            "\n",
            "--------------------------------------------------------------------------------\n",
            "N dmodel dff h dk dv Pdrop ϵls train steps PPL (dev) BLEU params (dev) ×106 base 6 512 2048 8 64 64 0.1 0.1 100K 4.92 25.8 65 1 512 512 5.29 24.9 (A) 4 16 128 32 128 32 5.00 4.91 25.5 25.8 32 16 16 5.01 25.4 (B) 16 32 5.16 5.01 25.1 25.4 58 60 2 6.11 23.7 36 4 5.19 25.3 50 8 4.88 25.5 80 (C) 256 32 32 5.75 24.5 28 1024 128 128 4.66 26.0 168 1024 5.12 25.4 53 4096 4.75 26.2 90 0.0 5.77 24.6 (D) 0.2 0.0 4.95 4.67 25.5 25.3 0.2 5.47 25.7 (E) positional embedding instead of sinusoids 4.92 25.7\n",
            "\n",
            "--------------------------------------------------------------------------------\n"
          ]
        }
      ],
      "source": [
        "for doc in docs:\n",
        "    print(str(doc) + \"\\n\\n\" + \"-\" * 80)"
      ]
    },
    {
      "cell_type": "markdown",
      "id": "69060724-e390-4dda-8250-5f86025c874a",
      "metadata": {
        "id": "69060724-e390-4dda-8250-5f86025c874a"
      },
      "source": [
        "## RAG pipeline"
      ]
    },
    {
      "cell_type": "code",
      "execution_count": null,
      "id": "771a47fa-1267-4db8-a6ae-5fde48bbc069",
      "metadata": {
        "id": "771a47fa-1267-4db8-a6ae-5fde48bbc069"
      },
      "outputs": [],
      "source": [
        "from langchain_core.runnables import RunnablePassthrough, RunnableLambda\n",
        "from langchain_core.messages import SystemMessage, HumanMessage\n",
        "from langchain_openai import ChatOpenAI\n",
        "from base64 import b64decode\n",
        "\n",
        "\n",
        "def parse_docs(docs):\n",
        "    \"\"\"Split base64-encoded images and texts\"\"\"\n",
        "    b64 = []\n",
        "    text = []\n",
        "    for doc in docs:\n",
        "        try:\n",
        "            b64decode(doc)\n",
        "            b64.append(doc)\n",
        "        except Exception as e:\n",
        "            text.append(doc)\n",
        "    return {\"images\": b64, \"texts\": text}\n",
        "\n",
        "\n",
        "def build_prompt(kwargs):\n",
        "\n",
        "    docs_by_type = kwargs[\"context\"]\n",
        "    user_question = kwargs[\"question\"]\n",
        "\n",
        "    context_text = \"\"\n",
        "    if len(docs_by_type[\"texts\"]) > 0:\n",
        "        for text_element in docs_by_type[\"texts\"]:\n",
        "            context_text += text_element.text\n",
        "\n",
        "    # construct prompt with context (including images)\n",
        "    prompt_template = f\"\"\"\n",
        "    Answer the question based only on the following context, which can include text, tables, and the below image.\n",
        "    Context: {context_text}\n",
        "    Question: {user_question}\n",
        "    \"\"\"\n",
        "\n",
        "    prompt_content = [{\"type\": \"text\", \"text\": prompt_template}]\n",
        "\n",
        "    if len(docs_by_type[\"images\"]) > 0:\n",
        "        for image in docs_by_type[\"images\"]:\n",
        "            prompt_content.append(\n",
        "                {\n",
        "                    \"type\": \"image_url\",\n",
        "                    \"image_url\": {\"url\": f\"data:image/jpeg;base64,{image}\"},\n",
        "                }\n",
        "            )\n",
        "\n",
        "    return ChatPromptTemplate.from_messages(\n",
        "        [\n",
        "            HumanMessage(content=prompt_content),\n",
        "        ]\n",
        "    )\n",
        "\n",
        "\n",
        "chain = (\n",
        "    {\n",
        "        \"context\": retriever | RunnableLambda(parse_docs),\n",
        "        \"question\": RunnablePassthrough(),\n",
        "    }\n",
        "    | RunnableLambda(build_prompt)\n",
        "    | ChatOpenAI(model=\"gpt-4o-mini\")\n",
        "    | StrOutputParser()\n",
        ")\n",
        "\n",
        "chain_with_sources = {\n",
        "    \"context\": retriever | RunnableLambda(parse_docs),\n",
        "    \"question\": RunnablePassthrough(),\n",
        "} | RunnablePassthrough().assign(\n",
        "    response=(\n",
        "        RunnableLambda(build_prompt)\n",
        "        | ChatOpenAI(model=\"gpt-4o-mini\")\n",
        "        | StrOutputParser()\n",
        "    )\n",
        ")"
      ]
    },
    {
      "cell_type": "code",
      "execution_count": null,
      "id": "ea8414a8-65ee-4e11-8154-029b454f46af",
      "metadata": {
        "colab": {
          "base_uri": "https://localhost:8080/",
          "height": 180
        },
        "id": "ea8414a8-65ee-4e11-8154-029b454f46af",
        "outputId": "2edf5f7e-9165-46ef-e710-cc945b78b230"
      },
      "outputs": [
        {
          "name": "stdout",
          "output_type": "stream",
          "text": [
            "The attention mechanism is a function that maps a query and a set of key-value pairs to an output, where the query, keys, values, and output are all vectors. The output is computed as a weighted sum of the values, with the weights determined by a compatibility function that measures how well the query aligns with each key.\n",
            "\n",
            "In mathematical terms, the attention function can be expressed as:\n",
            "\n",
            "\\[ \\text{Attention}(Q, K, V) = \\text{softmax}\\left(\\frac{QK^T}{\\sqrt{d_k}}\\right)V \\]\n",
            "\n",
            "Here, \\(Q\\) represents the queries, \\(K\\) the keys, and \\(V\\) the values. The dot products of the queries and keys are scaled by the square root of the dimension of the keys (\\(d_k\\)) to prevent large values that could push the softmax function into regions with small gradients. This attention mechanism allows the model to focus on different parts of the input sequence when producing an output, enhancing its ability to handle dependencies and context within the data. \n",
            "\n",
            "Additionally, multi-head attention extends this concept by performing multiple attention operations in parallel, allowing the model to attend to information from different representation subspaces simultaneously.\n"
          ]
        }
      ],
      "source": [
        "response = chain.invoke(\n",
        "    \"What is the attention mechanism?\"\n",
        ")\n",
        "\n",
        "print(response)"
      ]
    },
    {
      "cell_type": "code",
      "execution_count": null,
      "id": "e4adfeba",
      "metadata": {
        "id": "e4adfeba",
        "outputId": "7c82360d-4c90-4cd1-9db4-7ba815277bbc"
      },
      "outputs": [
        {
          "name": "stdout",
          "output_type": "stream",
          "text": [
            "Response: Multi-head attention is a mechanism used in the Transformer model that allows the model to focus on different parts of the input sequence simultaneously. Instead of using a single attention function, multi-head attention uses multiple attention heads, each performing attention with different, learned linear projections of the queries, keys, and values. \n",
            "\n",
            "Here's a breakdown of how it works:\n",
            "\n",
            "1. **Linear Projections**: The queries (Q), keys (K), and values (V) are projected into different subspaces using learned linear transformations. Each head has its own set of projections.\n",
            "\n",
            "2. **Parallel Attention**: Each head computes attention independently, allowing the model to attend to various representation subspaces from different positions in the input sequence.\n",
            "\n",
            "3. **Concatenation**: The outputs from all heads are concatenated together.\n",
            "\n",
            "4. **Final Linear Projection**: The concatenated output is then projected again to produce the final output.\n",
            "\n",
            "This approach enables the model to capture a richer set of relationships in the data compared to a single attention head, which might average out important information. Multi-head attention is particularly beneficial for tasks that require understanding complex dependencies in sequences, such as natural language processing.\n",
            "\n",
            "\n",
            "Context:\n",
            "3.2.2 Multi-Head Attention\n",
            "\n",
            "Instead of performing a single attention function with dmodel-dimensional keys, values and queries, we found it beneficial to linearly project the queries, keys and values h times with different, learned linear projections to dk, dk and dv dimensions, respectively. On each of these projected versions of queries, keys and values we then perform the attention function in parallel, yielding dv-dimensional\n",
            "\n",
            "‘To illustrate why the dot products get large, assume that the components of q and k are independent random variables with mean 0 and variance 1. Then their dot product, g -k = ves, qiki, has mean 0 and variance dx.\n",
            "\n",
            "4\n",
            "\n",
            "output values. These are concatenated and once again projected, resulting in the final values, as depicted in Figure 2.\n",
            "\n",
            "Multi-head attention allows the model to jointly attend to information from different representation subspaces at different positions. With a single attention head, averaging inhibits this.\n",
            "\n",
            "MultiHead(Q, K, V ) = Concat(head1, ..., headh)W O where headi = Attention(QW Q i , KW K i , V W V i )\n",
            "\n",
            "Where the projections are parameter matrices W Q and W O ∈ Rhdv×dmodel. i ∈ Rdmodel×dk , W K i ∈ Rdmodel×dk , W V i ∈ Rdmodel×dv\n",
            "\n",
            "In this work we employ h = 8 parallel attention layers, or heads. For each of these we use dk = dv = dmodel/h = 64. Due to the reduced dimension of each head, the total computational cost is similar to that of single-head attention with full dimensionality.\n",
            "\n",
            "3.2.3 Applications of Attention in our Model\n",
            "\n",
            "The Transformer uses multi-head attention in three different ways:\n",
            "\n",
            "• In \"encoder-decoder attention\" layers, the queries come from the previous decoder layer, and the memory keys and values come from the output of the encoder. This allows every position in the decoder to attend over all positions in the input sequence. This mimics the typical encoder-decoder attention mechanisms in sequence-to-sequence models such as [38, 2, 9].\n",
            "\n",
            "• The encoder contains self-attention layers. In a self-attention layer all of the keys, values and queries come from the same place, in this case, the output of the previous layer in the encoder. Each position in the encoder can attend to all positions in the previous layer of the encoder.\n",
            "\n",
            "• Similarly, self-attention layers in the decoder allow each position in the decoder to attend to all positions in the decoder up to and including that position. We need to prevent leftward information flow in the decoder to preserve the auto-regressive property. We implement this inside of scaled dot-product attention by masking out (setting to −∞) all values in the input of the softmax which correspond to illegal connections. See Figure 2.\n",
            "Page number:  4\n",
            "\n",
            "--------------------------------------------------\n",
            "\n",
            "big\n",
            "\n",
            "6\n",
            "\n",
            "1024\n",
            "\n",
            "4096\n",
            "\n",
            "16\n",
            "\n",
            "0.3\n",
            "\n",
            "300K 4.33\n",
            "\n",
            "26.4\n",
            "\n",
            "development set, newstest2013. We used beam search as described in the previous section, but no checkpoint averaging. We present these results in Table 3.\n",
            "\n",
            "In Table 3 rows (A), we vary the number of attention heads and the attention key and value dimensions, keeping the amount of computation constant, as described in Section 3.2.2. While single-head attention is 0.9 BLEU worse than the best setting, quality also drops off with too many heads.\n",
            "\n",
            "In Table 3 rows (B), we observe that reducing the attention key size dk hurts model quality. This suggests that determining compatibility is not easy and that a more sophisticated compatibility function than dot product may be beneficial. We further observe in rows (C) and (D) that, as expected, bigger models are better, and dropout is very helpful in avoiding over-fitting. In row (E) we replace our sinusoidal positional encoding with learned positional embeddings [9], and observe nearly identical results to the base model.\n",
            "\n",
            "6.3 English Constituency Parsing\n",
            "\n",
            "To evaluate if the Transformer can generalize to other tasks we performed experiments on English constituency parsing. This task presents specific challenges: the output is subject to strong structural constraints and is significantly longer than the input. Furthermore, RNN sequence-to-sequence models have not been able to attain state-of-the-art results in small-data regimes [37].\n",
            "\n",
            "We trained a 4-layer transformer with dmodel = 1024 on the Wall Street Journal (WSJ) portion of the Penn Treebank [25], about 40K training sentences. We also trained it in a semi-supervised setting, using the larger high-confidence and BerkleyParser corpora from with approximately 17M sentences [37]. We used a vocabulary of 16K tokens for the WSJ only setting and a vocabulary of 32K tokens for the semi-supervised setting.\n",
            "\n",
            "We performed only a small number of experiments to select the dropout, both attention and residual (section 5.4), learning rates and beam size on the Section 22 development set, all other parameters remained unchanged from the English-to-German base translation model. During inference, we\n",
            "\n",
            "9\n",
            "\n",
            "213\n",
            "\n",
            "Table 4: The Transformer generalizes well to English constituency parsing (Results are on Section 23 of WSJ)\n",
            "Page number:  9\n",
            "\n",
            "--------------------------------------------------\n",
            "\n",
            "[36] Christian Szegedy, Vincent Vanhoucke, Sergey Ioffe, Jonathon Shlens, and Zbigniew Wojna. Rethinking the inception architecture for computer vision. CoRR, abs/1512.00567, 2015.\n",
            "\n",
            "[37] Vinyals & Kaiser, Koo, Petrov, Sutskever, and Hinton. Grammar as a foreign language. In Advances in Neural Information Processing Systems, 2015.\n",
            "\n",
            "[38] Yonghui Wu, Mike Schuster, Zhifeng Chen, Quoc V Le, Mohammad Norouzi, Wolfgang Macherey, Maxim Krikun, Yuan Cao, Qin Gao, Klaus Macherey, et al. Google’s neural machine translation system: Bridging the gap between human and machine translation. arXiv preprint arXiv:1609.08144, 2016.\n",
            "\n",
            "[39] Jie Zhou, Ying Cao, Xuguang Wang, Peng Li, and Wei Xu. Deep recurrent models with fast-forward connections for neural machine translation. CoRR, abs/1606.04199, 2016.\n",
            "\n",
            "[40] Muhua Zhu, Yue Zhang, Wenliang Chen, Min Zhang, and Jingbo Zhu. Fast and accurate shift-reduce constituent parsing. In Proceedings of the 51st Annual Meeting of the ACL (Volume 1: Long Papers), pages 434–443. ACL, August 2013.\n",
            "\n",
            "12\n",
            "\n",
            "Attention Visualizations\n",
            "\n",
            "2 i i= RE 3 2 i 2 = = 2c 3 2 £ om % S GBANAAAA FS fe} oD DOD *H o Poe Q €oe2s oyzveyzuyeys 2SE @T_ EFESeSsEzESHR PL, SSSe TZSsSsggsg S=@LEGDEwB ECC oF aAeC RGN ESLSSSEESC -.VvVVVV VV HMO KEBOCSRSHLHOD QKXRDXE EO “A AAAAAA “= <2 £ 8 FogesouggsS ss P25 5273 Qvryxapvs\\3 es sa 5 Seeneteecorzgrs 2g ogs aaa oO 2 Sere =~ aA o ° 8 ueeeogoa0 o © £ 5 ane) vvvvv Vv £ eg € ° 2 Ss v Do <¢ 8 & |\n",
            "\n",
            "Figure 3: An example of the attention mechanism following long-distance dependencies in the encoder self-attention in layer 5 of 6. Many of the attention heads attend to a distant dependency of the verb ‘making’, completing the phrase ‘making...more difficult’. Attentions here shown only for the word ‘making’. Different colors represent different heads. Best viewed in color.\n",
            "\n",
            "13\n",
            "\n",
            "<ped> <ped> UOIUIdO == Aw ul Bulssiw ale « aM = yeum = S| sy ysnf pinoys = uoluldo Aw ul Bulssiw ae ysnf 38q Pinoys uojeojdde si! nq poped 38q JaAou Me] au <ped> <SOa> uojuido Aw ul Bulssiuw oe aM yeum S| SIU} ysnf 3q Pinoys uojeodde Ss}! ynq yoped 3q 4eAeuU meq auL <ped> <SOa> uo|uldo Aw ul Bulssiuw oe eM yeum S| Siu} ysnf 3q Pinoys uoyeoydde si! ynq yoped 3q aul\n",
            "\n",
            "Figure 4: Two attention heads, also in layer 5 of 6, apparently involved in anaphora resolution. Top: Full attentions for head 5. Bottom: Isolated attentions from just the word ‘its’ for attention heads 5 and 6. Note that the attentions are very sharp for this word.\n",
            "\n",
            "14\n",
            "\n",
            "<ped> <ped> <SOH>\\ <SO3> uoluido = uoluido Aw Aw yeyum S| sim pi—f}— 4 -ysn{ | Pinoys «+ pinoys uoeoydde uojeodde SHI S$}! | ya | nga ynq poped pooped aq aq Janou™ J@AoU WIM TIM me) me) aul “OU\n",
            "\n",
            "<ped> <ped> so <0 Uo|UIdO uoluido Aw Aw ul ul Bulssiw Bulssiw ae ale aM am yeuM yeum S| S| sty} # sly -—A - el eq eq pinoys « pinoys uojeoidde ee Ss}! Ss}! nq ee popod a —_ ee eq eq JOAoU JOAoU IW IW rr auL auL\n",
            "\n",
            "Figure 5: Many of the attention heads exhibit behaviour that seems related to the structure of the sentence. We give two such examples above, from two different heads from the encoder self-attention at layer 5 of 6. The heads clearly learned to perform different tasks.\n",
            "\n",
            "15\n",
            "Page number:  12\n",
            "\n",
            "--------------------------------------------------\n",
            "\n"
          ]
        },
        {
          "data": {
            "image/jpeg": "[encoded data removed]",
            "text/plain": [
              "<IPython.core.display.Image object>"
            ]
          },
          "metadata": {},
          "output_type": "display_data"
        }
      ],
      "source": [
        "response = chain_with_sources.invoke(\n",
        "    \"What is multihead?\"\n",
        ")\n",
        "\n",
        "print(\"Response:\", response['response'])\n",
        "\n",
        "print(\"\\n\\nContext:\")\n",
        "for text in response['context']['texts']:\n",
        "    print(text.text)\n",
        "    print(\"Page number: \", text.metadata.page_number)\n",
        "    print(\"\\n\" + \"-\"*50 + \"\\n\")\n",
        "for image in response['context']['images']:\n",
        "    display_base64_image(image)"
      ]
    },
    {
      "cell_type": "markdown",
      "id": "90cd3714",
      "metadata": {
        "id": "90cd3714"
      },
      "source": [
        "## References\n",
        "\n",
        "- [LangChain Inspiration](https://github.com/langchain-ai/langchain/blob/master/cookbook/Semi_structured_and_multi_modal_RAG.ipynb?ref=blog.langchain.dev)\n",
        "- [Multivector Storage](https://python.langchain.com/docs/how_to/multi_vector/)"
      ]
    }
  ],
  "metadata": {
    "colab": {
      "collapsed_sections": [
        "74b56bde-1ba0-4525-a11d-cab02c5659e4",
        "8b55862c",
        "b1feadda-8171-4aed-9a60-320a88dc9ee1",
        "bb4d2379",
        "2bf26669",
        "4b45fb81-46b1-426e-aa2c-01aed4eac700",
        "69060724-e390-4dda-8250-5f86025c874a"
      ],
      "include_colab_link": true,
      "provenance": []
    },
    "kernelspec": {
      "display_name": "intro-to-rag-vf99OxW6-py3.12",
      "language": "python",
      "name": "python3"
    },
    "language_info": {
      "codemirror_mode": {
        "name": "ipython",
        "version": 3
      },
      "file_extension": ".py",
      "mimetype": "text/x-python",
      "name": "python",
      "nbconvert_exporter": "python",
      "pygments_lexer": "ipython3",
      "version": "3.12.3"
    },
    "widgets": {
      "application/vnd.jupyter.widget-state+json": {
        "00b164fb36864e53a8a73710d7d855cc": {
          "model_module": "@jupyter-widgets/base",
          "model_module_version": "1.2.0",
          "model_name": "LayoutModel",
          "state": {
            "_model_module": "@jupyter-widgets/base",
            "_model_module_version": "1.2.0",
            "_model_name": "LayoutModel",
            "_view_count": null,
            "_view_module": "@jupyter-widgets/base",
            "_view_module_version": "1.2.0",
            "_view_name": "LayoutView",
            "align_content": null,
            "align_items": null,
            "align_self": null,
            "border": null,
            "bottom": null,
            "display": null,
            "flex": null,
            "flex_flow": null,
            "grid_area": null,
            "grid_auto_columns": null,
            "grid_auto_flow": null,
            "grid_auto_rows": null,
            "grid_column": null,
            "grid_gap": null,
            "grid_row": null,
            "grid_template_areas": null,
            "grid_template_columns": null,
            "grid_template_rows": null,
            "height": null,
            "justify_content": null,
            "justify_items": null,
            "left": null,
            "margin": null,
            "max_height": null,
            "max_width": null,
            "min_height": null,
            "min_width": null,
            "object_fit": null,
            "object_position": null,
            "order": null,
            "overflow": null,
            "overflow_x": null,
            "overflow_y": null,
            "padding": null,
            "right": null,
            "top": null,
            "visibility": null,
            "width": null
          }
        },
        "01ef4b60c3144e17afffb86281466bab": {
          "model_module": "@jupyter-widgets/base",
          "model_module_version": "1.2.0",
          "model_name": "LayoutModel",
          "state": {
            "_model_module": "@jupyter-widgets/base",
            "_model_module_version": "1.2.0",
            "_model_name": "LayoutModel",
            "_view_count": null,
            "_view_module": "@jupyter-widgets/base",
            "_view_module_version": "1.2.0",
            "_view_name": "LayoutView",
            "align_content": null,
            "align_items": null,
            "align_self": null,
            "border": null,
            "bottom": null,
            "display": null,
            "flex": null,
            "flex_flow": null,
            "grid_area": null,
            "grid_auto_columns": null,
            "grid_auto_flow": null,
            "grid_auto_rows": null,
            "grid_column": null,
            "grid_gap": null,
            "grid_row": null,
            "grid_template_areas": null,
            "grid_template_columns": null,
            "grid_template_rows": null,
            "height": null,
            "justify_content": null,
            "justify_items": null,
            "left": null,
            "margin": null,
            "max_height": null,
            "max_width": null,
            "min_height": null,
            "min_width": null,
            "object_fit": null,
            "object_position": null,
            "order": null,
            "overflow": null,
            "overflow_x": null,
            "overflow_y": null,
            "padding": null,
            "right": null,
            "top": null,
            "visibility": null,
            "width": null
          }
        },
        "052ec73371404595b7dec973dda308d4": {
          "model_module": "@jupyter-widgets/controls",
          "model_module_version": "1.5.0",
          "model_name": "DescriptionStyleModel",
          "state": {
            "_model_module": "@jupyter-widgets/controls",
            "_model_module_version": "1.5.0",
            "_model_name": "DescriptionStyleModel",
            "_view_count": null,
            "_view_module": "@jupyter-widgets/base",
            "_view_module_version": "1.2.0",
            "_view_name": "StyleView",
            "description_width": ""
          }
        },
        "0e7ed203dde24ec9a8d0f9c95a8877fd": {
          "model_module": "@jupyter-widgets/base",
          "model_module_version": "1.2.0",
          "model_name": "LayoutModel",
          "state": {
            "_model_module": "@jupyter-widgets/base",
            "_model_module_version": "1.2.0",
            "_model_name": "LayoutModel",
            "_view_count": null,
            "_view_module": "@jupyter-widgets/base",
            "_view_module_version": "1.2.0",
            "_view_name": "LayoutView",
            "align_content": null,
            "align_items": null,
            "align_self": null,
            "border": null,
            "bottom": null,
            "display": null,
            "flex": null,
            "flex_flow": null,
            "grid_area": null,
            "grid_auto_columns": null,
            "grid_auto_flow": null,
            "grid_auto_rows": null,
            "grid_column": null,
            "grid_gap": null,
            "grid_row": null,
            "grid_template_areas": null,
            "grid_template_columns": null,
            "grid_template_rows": null,
            "height": null,
            "justify_content": null,
            "justify_items": null,
            "left": null,
            "margin": null,
            "max_height": null,
            "max_width": null,
            "min_height": null,
            "min_width": null,
            "object_fit": null,
            "object_position": null,
            "order": null,
            "overflow": null,
            "overflow_x": null,
            "overflow_y": null,
            "padding": null,
            "right": null,
            "top": null,
            "visibility": null,
            "width": null
          }
        },
        "15b9261bb07f4bbb95d276b92feabade": {
          "model_module": "@jupyter-widgets/controls",
          "model_module_version": "1.5.0",
          "model_name": "HTMLModel",
          "state": {
            "_dom_classes": [],
            "_model_module": "@jupyter-widgets/controls",
            "_model_module_version": "1.5.0",
            "_model_name": "HTMLModel",
            "_view_count": null,
            "_view_module": "@jupyter-widgets/controls",
            "_view_module_version": "1.5.0",
            "_view_name": "HTMLView",
            "description": "",
            "description_tooltip": null,
            "layout": "IPY_MODEL_0e7ed203dde24ec9a8d0f9c95a8877fd",
            "placeholder": "​",
            "style": "IPY_MODEL_e64cfd87330d4b238596da66db63d984",
            "value": "Downloading (…)lve/main/config.json: 100%"
          }
        },
        "2045ffddb5c4407f9235d1bf472e9ba5": {
          "model_module": "@jupyter-widgets/controls",
          "model_module_version": "1.5.0",
          "model_name": "HTMLModel",
          "state": {
            "_dom_classes": [],
            "_model_module": "@jupyter-widgets/controls",
            "_model_module_version": "1.5.0",
            "_model_name": "HTMLModel",
            "_view_count": null,
            "_view_module": "@jupyter-widgets/controls",
            "_view_module_version": "1.5.0",
            "_view_name": "HTMLView",
            "description": "",
            "description_tooltip": null,
            "layout": "IPY_MODEL_9eab400a02dc46269e2537db44a78625",
            "placeholder": "​",
            "style": "IPY_MODEL_415ddcb74bc2467fa9399039b7d0cafb",
            "value": "Downloading model.safetensors: 100%"
          }
        },
        "21318da3ae0644c28ec63983a34bd2ee": {
          "model_module": "@jupyter-widgets/controls",
          "model_module_version": "1.5.0",
          "model_name": "HTMLModel",
          "state": {
            "_dom_classes": [],
            "_model_module": "@jupyter-widgets/controls",
            "_model_module_version": "1.5.0",
            "_model_name": "HTMLModel",
            "_view_count": null,
            "_view_module": "@jupyter-widgets/controls",
            "_view_module_version": "1.5.0",
            "_view_name": "HTMLView",
            "description": "",
            "description_tooltip": null,
            "layout": "IPY_MODEL_7ad056a7d71847d498f270ecac5cbf62",
            "placeholder": "​",
            "style": "IPY_MODEL_309bad22d08c47af8d51942da599328e",
            "value": " 46.8M/46.8M [00:00&lt;00:00, 103MB/s]"
          }
        },
        "27e36e7f92d7417bb221fa95406cfb2f": {
          "model_module": "@jupyter-widgets/controls",
          "model_module_version": "1.5.0",
          "model_name": "FloatProgressModel",
          "state": {
            "_dom_classes": [],
            "_model_module": "@jupyter-widgets/controls",
            "_model_module_version": "1.5.0",
            "_model_name": "FloatProgressModel",
            "_view_count": null,
            "_view_module": "@jupyter-widgets/controls",
            "_view_module_version": "1.5.0",
            "_view_name": "ProgressView",
            "bar_style": "success",
            "description": "",
            "description_tooltip": null,
            "layout": "IPY_MODEL_7185b40a7fa74088ad7ff6efb524e6b5",
            "max": 46807446,
            "min": 0,
            "orientation": "horizontal",
            "style": "IPY_MODEL_cc6672c78dac468d9264efd90902c87d",
            "value": 46807446
          }
        },
        "2bcca7acc6f047d6ad4efbf1e5333c58": {
          "model_module": "@jupyter-widgets/base",
          "model_module_version": "1.2.0",
          "model_name": "LayoutModel",
          "state": {
            "_model_module": "@jupyter-widgets/base",
            "_model_module_version": "1.2.0",
            "_model_name": "LayoutModel",
            "_view_count": null,
            "_view_module": "@jupyter-widgets/base",
            "_view_module_version": "1.2.0",
            "_view_name": "LayoutView",
            "align_content": null,
            "align_items": null,
            "align_self": null,
            "border": null,
            "bottom": null,
            "display": null,
            "flex": null,
            "flex_flow": null,
            "grid_area": null,
            "grid_auto_columns": null,
            "grid_auto_flow": null,
            "grid_auto_rows": null,
            "grid_column": null,
            "grid_gap": null,
            "grid_row": null,
            "grid_template_areas": null,
            "grid_template_columns": null,
            "grid_template_rows": null,
            "height": null,
            "justify_content": null,
            "justify_items": null,
            "left": null,
            "margin": null,
            "max_height": null,
            "max_width": null,
            "min_height": null,
            "min_width": null,
            "object_fit": null,
            "object_position": null,
            "order": null,
            "overflow": null,
            "overflow_x": null,
            "overflow_y": null,
            "padding": null,
            "right": null,
            "top": null,
            "visibility": null,
            "width": null
          }
        },
        "2df0c4cc59044ec8a59aadf2d5d2a9c9": {
          "model_module": "@jupyter-widgets/controls",
          "model_module_version": "1.5.0",
          "model_name": "FloatProgressModel",
          "state": {
            "_dom_classes": [],
            "_model_module": "@jupyter-widgets/controls",
            "_model_module_version": "1.5.0",
            "_model_name": "FloatProgressModel",
            "_view_count": null,
            "_view_module": "@jupyter-widgets/controls",
            "_view_module_version": "1.5.0",
            "_view_name": "ProgressView",
            "bar_style": "success",
            "description": "",
            "description_tooltip": null,
            "layout": "IPY_MODEL_b2fc825e7e6949e0a18f491ff261ac2b",
            "max": 115434268,
            "min": 0,
            "orientation": "horizontal",
            "style": "IPY_MODEL_df6e6c84cc1c4c7b8cf5f8555eb42166",
            "value": 115434268
          }
        },
        "2ee43f14fa654a66ad0cfb559826f266": {
          "model_module": "@jupyter-widgets/controls",
          "model_module_version": "1.5.0",
          "model_name": "FloatProgressModel",
          "state": {
            "_dom_classes": [],
            "_model_module": "@jupyter-widgets/controls",
            "_model_module_version": "1.5.0",
            "_model_name": "FloatProgressModel",
            "_view_count": null,
            "_view_module": "@jupyter-widgets/controls",
            "_view_module_version": "1.5.0",
            "_view_name": "ProgressView",
            "bar_style": "success",
            "description": "",
            "description_tooltip": null,
            "layout": "IPY_MODEL_00b164fb36864e53a8a73710d7d855cc",
            "max": 216625723,
            "min": 0,
            "orientation": "horizontal",
            "style": "IPY_MODEL_64a0c4aa0bba4b6f8e8f5775a4341147",
            "value": 216625723
          }
        },
        "3095817ccc8f4ec6bae9b0c201d8e40a": {
          "model_module": "@jupyter-widgets/controls",
          "model_module_version": "1.5.0",
          "model_name": "HTMLModel",
          "state": {
            "_dom_classes": [],
            "_model_module": "@jupyter-widgets/controls",
            "_model_module_version": "1.5.0",
            "_model_name": "HTMLModel",
            "_view_count": null,
            "_view_module": "@jupyter-widgets/controls",
            "_view_module_version": "1.5.0",
            "_view_name": "HTMLView",
            "description": "",
            "description_tooltip": null,
            "layout": "IPY_MODEL_547eb1582628438c9f0ef01554dfcdb4",
            "placeholder": "​",
            "style": "IPY_MODEL_40b532d4d85740a2a16251bb321f489a",
            "value": " 115M/115M [00:02&lt;00:00, 36.9MB/s]"
          }
        },
        "309bad22d08c47af8d51942da599328e": {
          "model_module": "@jupyter-widgets/controls",
          "model_module_version": "1.5.0",
          "model_name": "DescriptionStyleModel",
          "state": {
            "_model_module": "@jupyter-widgets/controls",
            "_model_module_version": "1.5.0",
            "_model_name": "DescriptionStyleModel",
            "_view_count": null,
            "_view_module": "@jupyter-widgets/base",
            "_view_module_version": "1.2.0",
            "_view_name": "StyleView",
            "description_width": ""
          }
        },
        "3494ef9884224fa9a0a65999d7fc2945": {
          "model_module": "@jupyter-widgets/controls",
          "model_module_version": "1.5.0",
          "model_name": "DescriptionStyleModel",
          "state": {
            "_model_module": "@jupyter-widgets/controls",
            "_model_module_version": "1.5.0",
            "_model_name": "DescriptionStyleModel",
            "_view_count": null,
            "_view_module": "@jupyter-widgets/base",
            "_view_module_version": "1.2.0",
            "_view_name": "StyleView",
            "description_width": ""
          }
        },
        "3bd05fe4e6bd4ea2b7bfcfba705369c5": {
          "model_module": "@jupyter-widgets/controls",
          "model_module_version": "1.5.0",
          "model_name": "HTMLModel",
          "state": {
            "_dom_classes": [],
            "_model_module": "@jupyter-widgets/controls",
            "_model_module_version": "1.5.0",
            "_model_name": "HTMLModel",
            "_view_count": null,
            "_view_module": "@jupyter-widgets/controls",
            "_view_module_version": "1.5.0",
            "_view_name": "HTMLView",
            "description": "",
            "description_tooltip": null,
            "layout": "IPY_MODEL_01ef4b60c3144e17afffb86281466bab",
            "placeholder": "​",
            "style": "IPY_MODEL_3494ef9884224fa9a0a65999d7fc2945",
            "value": "Downloading model.safetensors: 100%"
          }
        },
        "40b532d4d85740a2a16251bb321f489a": {
          "model_module": "@jupyter-widgets/controls",
          "model_module_version": "1.5.0",
          "model_name": "DescriptionStyleModel",
          "state": {
            "_model_module": "@jupyter-widgets/controls",
            "_model_module_version": "1.5.0",
            "_model_name": "DescriptionStyleModel",
            "_view_count": null,
            "_view_module": "@jupyter-widgets/base",
            "_view_module_version": "1.2.0",
            "_view_name": "StyleView",
            "description_width": ""
          }
        },
        "415ddcb74bc2467fa9399039b7d0cafb": {
          "model_module": "@jupyter-widgets/controls",
          "model_module_version": "1.5.0",
          "model_name": "DescriptionStyleModel",
          "state": {
            "_model_module": "@jupyter-widgets/controls",
            "_model_module_version": "1.5.0",
            "_model_name": "DescriptionStyleModel",
            "_view_count": null,
            "_view_module": "@jupyter-widgets/base",
            "_view_module_version": "1.2.0",
            "_view_name": "StyleView",
            "description_width": ""
          }
        },
        "5246faf4e8194647a4b41d9de5a168f6": {
          "model_module": "@jupyter-widgets/controls",
          "model_module_version": "1.5.0",
          "model_name": "HBoxModel",
          "state": {
            "_dom_classes": [],
            "_model_module": "@jupyter-widgets/controls",
            "_model_module_version": "1.5.0",
            "_model_name": "HBoxModel",
            "_view_count": null,
            "_view_module": "@jupyter-widgets/controls",
            "_view_module_version": "1.5.0",
            "_view_name": "HBoxView",
            "box_style": "",
            "children": [
              "IPY_MODEL_c8f31460d7d5420db2c7840e287fac5b",
              "IPY_MODEL_2ee43f14fa654a66ad0cfb559826f266",
              "IPY_MODEL_e7e6388db19d47ceb06afc75fbb8486c"
            ],
            "layout": "IPY_MODEL_922be25533bd448e9ce92614f7bd2677"
          }
        },
        "547eb1582628438c9f0ef01554dfcdb4": {
          "model_module": "@jupyter-widgets/base",
          "model_module_version": "1.2.0",
          "model_name": "LayoutModel",
          "state": {
            "_model_module": "@jupyter-widgets/base",
            "_model_module_version": "1.2.0",
            "_model_name": "LayoutModel",
            "_view_count": null,
            "_view_module": "@jupyter-widgets/base",
            "_view_module_version": "1.2.0",
            "_view_name": "LayoutView",
            "align_content": null,
            "align_items": null,
            "align_self": null,
            "border": null,
            "bottom": null,
            "display": null,
            "flex": null,
            "flex_flow": null,
            "grid_area": null,
            "grid_auto_columns": null,
            "grid_auto_flow": null,
            "grid_auto_rows": null,
            "grid_column": null,
            "grid_gap": null,
            "grid_row": null,
            "grid_template_areas": null,
            "grid_template_columns": null,
            "grid_template_rows": null,
            "height": null,
            "justify_content": null,
            "justify_items": null,
            "left": null,
            "margin": null,
            "max_height": null,
            "max_width": null,
            "min_height": null,
            "min_width": null,
            "object_fit": null,
            "object_position": null,
            "order": null,
            "overflow": null,
            "overflow_x": null,
            "overflow_y": null,
            "padding": null,
            "right": null,
            "top": null,
            "visibility": null,
            "width": null
          }
        },
        "5ffb0b594f51466284af380fd4d47b40": {
          "model_module": "@jupyter-widgets/controls",
          "model_module_version": "1.5.0",
          "model_name": "FloatProgressModel",
          "state": {
            "_dom_classes": [],
            "_model_module": "@jupyter-widgets/controls",
            "_model_module_version": "1.5.0",
            "_model_name": "FloatProgressModel",
            "_view_count": null,
            "_view_module": "@jupyter-widgets/controls",
            "_view_module_version": "1.5.0",
            "_view_name": "ProgressView",
            "bar_style": "success",
            "description": "",
            "description_tooltip": null,
            "layout": "IPY_MODEL_c13aff2b064743be941b4672550e56c9",
            "max": 1469,
            "min": 0,
            "orientation": "horizontal",
            "style": "IPY_MODEL_ef5fba5f330748faa9bd583d637087a6",
            "value": 1469
          }
        },
        "64a0c4aa0bba4b6f8e8f5775a4341147": {
          "model_module": "@jupyter-widgets/controls",
          "model_module_version": "1.5.0",
          "model_name": "ProgressStyleModel",
          "state": {
            "_model_module": "@jupyter-widgets/controls",
            "_model_module_version": "1.5.0",
            "_model_name": "ProgressStyleModel",
            "_view_count": null,
            "_view_module": "@jupyter-widgets/base",
            "_view_module_version": "1.2.0",
            "_view_name": "StyleView",
            "bar_color": null,
            "description_width": ""
          }
        },
        "7185b40a7fa74088ad7ff6efb524e6b5": {
          "model_module": "@jupyter-widgets/base",
          "model_module_version": "1.2.0",
          "model_name": "LayoutModel",
          "state": {
            "_model_module": "@jupyter-widgets/base",
            "_model_module_version": "1.2.0",
            "_model_name": "LayoutModel",
            "_view_count": null,
            "_view_module": "@jupyter-widgets/base",
            "_view_module_version": "1.2.0",
            "_view_name": "LayoutView",
            "align_content": null,
            "align_items": null,
            "align_self": null,
            "border": null,
            "bottom": null,
            "display": null,
            "flex": null,
            "flex_flow": null,
            "grid_area": null,
            "grid_auto_columns": null,
            "grid_auto_flow": null,
            "grid_auto_rows": null,
            "grid_column": null,
            "grid_gap": null,
            "grid_row": null,
            "grid_template_areas": null,
            "grid_template_columns": null,
            "grid_template_rows": null,
            "height": null,
            "justify_content": null,
            "justify_items": null,
            "left": null,
            "margin": null,
            "max_height": null,
            "max_width": null,
            "min_height": null,
            "min_width": null,
            "object_fit": null,
            "object_position": null,
            "order": null,
            "overflow": null,
            "overflow_x": null,
            "overflow_y": null,
            "padding": null,
            "right": null,
            "top": null,
            "visibility": null,
            "width": null
          }
        },
        "7ad056a7d71847d498f270ecac5cbf62": {
          "model_module": "@jupyter-widgets/base",
          "model_module_version": "1.2.0",
          "model_name": "LayoutModel",
          "state": {
            "_model_module": "@jupyter-widgets/base",
            "_model_module_version": "1.2.0",
            "_model_name": "LayoutModel",
            "_view_count": null,
            "_view_module": "@jupyter-widgets/base",
            "_view_module_version": "1.2.0",
            "_view_name": "LayoutView",
            "align_content": null,
            "align_items": null,
            "align_self": null,
            "border": null,
            "bottom": null,
            "display": null,
            "flex": null,
            "flex_flow": null,
            "grid_area": null,
            "grid_auto_columns": null,
            "grid_auto_flow": null,
            "grid_auto_rows": null,
            "grid_column": null,
            "grid_gap": null,
            "grid_row": null,
            "grid_template_areas": null,
            "grid_template_columns": null,
            "grid_template_rows": null,
            "height": null,
            "justify_content": null,
            "justify_items": null,
            "left": null,
            "margin": null,
            "max_height": null,
            "max_width": null,
            "min_height": null,
            "min_width": null,
            "object_fit": null,
            "object_position": null,
            "order": null,
            "overflow": null,
            "overflow_x": null,
            "overflow_y": null,
            "padding": null,
            "right": null,
            "top": null,
            "visibility": null,
            "width": null
          }
        },
        "7d37b6f0ba8b4c5eb875635b98778d26": {
          "model_module": "@jupyter-widgets/controls",
          "model_module_version": "1.5.0",
          "model_name": "DescriptionStyleModel",
          "state": {
            "_model_module": "@jupyter-widgets/controls",
            "_model_module_version": "1.5.0",
            "_model_name": "DescriptionStyleModel",
            "_view_count": null,
            "_view_module": "@jupyter-widgets/base",
            "_view_module_version": "1.2.0",
            "_view_name": "StyleView",
            "description_width": ""
          }
        },
        "922be25533bd448e9ce92614f7bd2677": {
          "model_module": "@jupyter-widgets/base",
          "model_module_version": "1.2.0",
          "model_name": "LayoutModel",
          "state": {
            "_model_module": "@jupyter-widgets/base",
            "_model_module_version": "1.2.0",
            "_model_name": "LayoutModel",
            "_view_count": null,
            "_view_module": "@jupyter-widgets/base",
            "_view_module_version": "1.2.0",
            "_view_name": "LayoutView",
            "align_content": null,
            "align_items": null,
            "align_self": null,
            "border": null,
            "bottom": null,
            "display": null,
            "flex": null,
            "flex_flow": null,
            "grid_area": null,
            "grid_auto_columns": null,
            "grid_auto_flow": null,
            "grid_auto_rows": null,
            "grid_column": null,
            "grid_gap": null,
            "grid_row": null,
            "grid_template_areas": null,
            "grid_template_columns": null,
            "grid_template_rows": null,
            "height": null,
            "justify_content": null,
            "justify_items": null,
            "left": null,
            "margin": null,
            "max_height": null,
            "max_width": null,
            "min_height": null,
            "min_width": null,
            "object_fit": null,
            "object_position": null,
            "order": null,
            "overflow": null,
            "overflow_x": null,
            "overflow_y": null,
            "padding": null,
            "right": null,
            "top": null,
            "visibility": null,
            "width": null
          }
        },
        "93205e664daa4921959605eb99dfa9cc": {
          "model_module": "@jupyter-widgets/base",
          "model_module_version": "1.2.0",
          "model_name": "LayoutModel",
          "state": {
            "_model_module": "@jupyter-widgets/base",
            "_model_module_version": "1.2.0",
            "_model_name": "LayoutModel",
            "_view_count": null,
            "_view_module": "@jupyter-widgets/base",
            "_view_module_version": "1.2.0",
            "_view_name": "LayoutView",
            "align_content": null,
            "align_items": null,
            "align_self": null,
            "border": null,
            "bottom": null,
            "display": null,
            "flex": null,
            "flex_flow": null,
            "grid_area": null,
            "grid_auto_columns": null,
            "grid_auto_flow": null,
            "grid_auto_rows": null,
            "grid_column": null,
            "grid_gap": null,
            "grid_row": null,
            "grid_template_areas": null,
            "grid_template_columns": null,
            "grid_template_rows": null,
            "height": null,
            "justify_content": null,
            "justify_items": null,
            "left": null,
            "margin": null,
            "max_height": null,
            "max_width": null,
            "min_height": null,
            "min_width": null,
            "object_fit": null,
            "object_position": null,
            "order": null,
            "overflow": null,
            "overflow_x": null,
            "overflow_y": null,
            "padding": null,
            "right": null,
            "top": null,
            "visibility": null,
            "width": null
          }
        },
        "9eab400a02dc46269e2537db44a78625": {
          "model_module": "@jupyter-widgets/base",
          "model_module_version": "1.2.0",
          "model_name": "LayoutModel",
          "state": {
            "_model_module": "@jupyter-widgets/base",
            "_model_module_version": "1.2.0",
            "_model_name": "LayoutModel",
            "_view_count": null,
            "_view_module": "@jupyter-widgets/base",
            "_view_module_version": "1.2.0",
            "_view_name": "LayoutView",
            "align_content": null,
            "align_items": null,
            "align_self": null,
            "border": null,
            "bottom": null,
            "display": null,
            "flex": null,
            "flex_flow": null,
            "grid_area": null,
            "grid_auto_columns": null,
            "grid_auto_flow": null,
            "grid_auto_rows": null,
            "grid_column": null,
            "grid_gap": null,
            "grid_row": null,
            "grid_template_areas": null,
            "grid_template_columns": null,
            "grid_template_rows": null,
            "height": null,
            "justify_content": null,
            "justify_items": null,
            "left": null,
            "margin": null,
            "max_height": null,
            "max_width": null,
            "min_height": null,
            "min_width": null,
            "object_fit": null,
            "object_position": null,
            "order": null,
            "overflow": null,
            "overflow_x": null,
            "overflow_y": null,
            "padding": null,
            "right": null,
            "top": null,
            "visibility": null,
            "width": null
          }
        },
        "a9a67e81e91e46e19b23f58dea634525": {
          "model_module": "@jupyter-widgets/controls",
          "model_module_version": "1.5.0",
          "model_name": "HBoxModel",
          "state": {
            "_dom_classes": [],
            "_model_module": "@jupyter-widgets/controls",
            "_model_module_version": "1.5.0",
            "_model_name": "HBoxModel",
            "_view_count": null,
            "_view_module": "@jupyter-widgets/controls",
            "_view_module_version": "1.5.0",
            "_view_name": "HBoxView",
            "box_style": "",
            "children": [
              "IPY_MODEL_2045ffddb5c4407f9235d1bf472e9ba5",
              "IPY_MODEL_2df0c4cc59044ec8a59aadf2d5d2a9c9",
              "IPY_MODEL_3095817ccc8f4ec6bae9b0c201d8e40a"
            ],
            "layout": "IPY_MODEL_93205e664daa4921959605eb99dfa9cc"
          }
        },
        "b12ba9f2111c44eeb5ae65820cc7d5d7": {
          "model_module": "@jupyter-widgets/controls",
          "model_module_version": "1.5.0",
          "model_name": "HBoxModel",
          "state": {
            "_dom_classes": [],
            "_model_module": "@jupyter-widgets/controls",
            "_model_module_version": "1.5.0",
            "_model_name": "HBoxModel",
            "_view_count": null,
            "_view_module": "@jupyter-widgets/controls",
            "_view_module_version": "1.5.0",
            "_view_name": "HBoxView",
            "box_style": "",
            "children": [
              "IPY_MODEL_15b9261bb07f4bbb95d276b92feabade",
              "IPY_MODEL_5ffb0b594f51466284af380fd4d47b40",
              "IPY_MODEL_fc994e0c5ced45c78c0b9bb6f19c073f"
            ],
            "layout": "IPY_MODEL_c58471c60519419e9cdb3c7ff174d702"
          }
        },
        "b2fc825e7e6949e0a18f491ff261ac2b": {
          "model_module": "@jupyter-widgets/base",
          "model_module_version": "1.2.0",
          "model_name": "LayoutModel",
          "state": {
            "_model_module": "@jupyter-widgets/base",
            "_model_module_version": "1.2.0",
            "_model_name": "LayoutModel",
            "_view_count": null,
            "_view_module": "@jupyter-widgets/base",
            "_view_module_version": "1.2.0",
            "_view_name": "LayoutView",
            "align_content": null,
            "align_items": null,
            "align_self": null,
            "border": null,
            "bottom": null,
            "display": null,
            "flex": null,
            "flex_flow": null,
            "grid_area": null,
            "grid_auto_columns": null,
            "grid_auto_flow": null,
            "grid_auto_rows": null,
            "grid_column": null,
            "grid_gap": null,
            "grid_row": null,
            "grid_template_areas": null,
            "grid_template_columns": null,
            "grid_template_rows": null,
            "height": null,
            "justify_content": null,
            "justify_items": null,
            "left": null,
            "margin": null,
            "max_height": null,
            "max_width": null,
            "min_height": null,
            "min_width": null,
            "object_fit": null,
            "object_position": null,
            "order": null,
            "overflow": null,
            "overflow_x": null,
            "overflow_y": null,
            "padding": null,
            "right": null,
            "top": null,
            "visibility": null,
            "width": null
          }
        },
        "c13aff2b064743be941b4672550e56c9": {
          "model_module": "@jupyter-widgets/base",
          "model_module_version": "1.2.0",
          "model_name": "LayoutModel",
          "state": {
            "_model_module": "@jupyter-widgets/base",
            "_model_module_version": "1.2.0",
            "_model_name": "LayoutModel",
            "_view_count": null,
            "_view_module": "@jupyter-widgets/base",
            "_view_module_version": "1.2.0",
            "_view_name": "LayoutView",
            "align_content": null,
            "align_items": null,
            "align_self": null,
            "border": null,
            "bottom": null,
            "display": null,
            "flex": null,
            "flex_flow": null,
            "grid_area": null,
            "grid_auto_columns": null,
            "grid_auto_flow": null,
            "grid_auto_rows": null,
            "grid_column": null,
            "grid_gap": null,
            "grid_row": null,
            "grid_template_areas": null,
            "grid_template_columns": null,
            "grid_template_rows": null,
            "height": null,
            "justify_content": null,
            "justify_items": null,
            "left": null,
            "margin": null,
            "max_height": null,
            "max_width": null,
            "min_height": null,
            "min_width": null,
            "object_fit": null,
            "object_position": null,
            "order": null,
            "overflow": null,
            "overflow_x": null,
            "overflow_y": null,
            "padding": null,
            "right": null,
            "top": null,
            "visibility": null,
            "width": null
          }
        },
        "c428c0bd915d455986b3193e9636ea80": {
          "model_module": "@jupyter-widgets/base",
          "model_module_version": "1.2.0",
          "model_name": "LayoutModel",
          "state": {
            "_model_module": "@jupyter-widgets/base",
            "_model_module_version": "1.2.0",
            "_model_name": "LayoutModel",
            "_view_count": null,
            "_view_module": "@jupyter-widgets/base",
            "_view_module_version": "1.2.0",
            "_view_name": "LayoutView",
            "align_content": null,
            "align_items": null,
            "align_self": null,
            "border": null,
            "bottom": null,
            "display": null,
            "flex": null,
            "flex_flow": null,
            "grid_area": null,
            "grid_auto_columns": null,
            "grid_auto_flow": null,
            "grid_auto_rows": null,
            "grid_column": null,
            "grid_gap": null,
            "grid_row": null,
            "grid_template_areas": null,
            "grid_template_columns": null,
            "grid_template_rows": null,
            "height": null,
            "justify_content": null,
            "justify_items": null,
            "left": null,
            "margin": null,
            "max_height": null,
            "max_width": null,
            "min_height": null,
            "min_width": null,
            "object_fit": null,
            "object_position": null,
            "order": null,
            "overflow": null,
            "overflow_x": null,
            "overflow_y": null,
            "padding": null,
            "right": null,
            "top": null,
            "visibility": null,
            "width": null
          }
        },
        "c58471c60519419e9cdb3c7ff174d702": {
          "model_module": "@jupyter-widgets/base",
          "model_module_version": "1.2.0",
          "model_name": "LayoutModel",
          "state": {
            "_model_module": "@jupyter-widgets/base",
            "_model_module_version": "1.2.0",
            "_model_name": "LayoutModel",
            "_view_count": null,
            "_view_module": "@jupyter-widgets/base",
            "_view_module_version": "1.2.0",
            "_view_name": "LayoutView",
            "align_content": null,
            "align_items": null,
            "align_self": null,
            "border": null,
            "bottom": null,
            "display": null,
            "flex": null,
            "flex_flow": null,
            "grid_area": null,
            "grid_auto_columns": null,
            "grid_auto_flow": null,
            "grid_auto_rows": null,
            "grid_column": null,
            "grid_gap": null,
            "grid_row": null,
            "grid_template_areas": null,
            "grid_template_columns": null,
            "grid_template_rows": null,
            "height": null,
            "justify_content": null,
            "justify_items": null,
            "left": null,
            "margin": null,
            "max_height": null,
            "max_width": null,
            "min_height": null,
            "min_width": null,
            "object_fit": null,
            "object_position": null,
            "order": null,
            "overflow": null,
            "overflow_x": null,
            "overflow_y": null,
            "padding": null,
            "right": null,
            "top": null,
            "visibility": null,
            "width": null
          }
        },
        "c8f31460d7d5420db2c7840e287fac5b": {
          "model_module": "@jupyter-widgets/controls",
          "model_module_version": "1.5.0",
          "model_name": "HTMLModel",
          "state": {
            "_dom_classes": [],
            "_model_module": "@jupyter-widgets/controls",
            "_model_module_version": "1.5.0",
            "_model_name": "HTMLModel",
            "_view_count": null,
            "_view_module": "@jupyter-widgets/controls",
            "_view_module_version": "1.5.0",
            "_view_name": "HTMLView",
            "description": "",
            "description_tooltip": null,
            "layout": "IPY_MODEL_f63ee7f4234c45d48829e011f24eafde",
            "placeholder": "​",
            "style": "IPY_MODEL_f8bcfb1381aa46d89034ea50e30b43cf",
            "value": "Downloading yolox_l0.05.onnx: 100%"
          }
        },
        "cc6672c78dac468d9264efd90902c87d": {
          "model_module": "@jupyter-widgets/controls",
          "model_module_version": "1.5.0",
          "model_name": "ProgressStyleModel",
          "state": {
            "_model_module": "@jupyter-widgets/controls",
            "_model_module_version": "1.5.0",
            "_model_name": "ProgressStyleModel",
            "_view_count": null,
            "_view_module": "@jupyter-widgets/base",
            "_view_module_version": "1.2.0",
            "_view_name": "StyleView",
            "bar_color": null,
            "description_width": ""
          }
        },
        "daabde9b4b764797af6b96370e40c1d2": {
          "model_module": "@jupyter-widgets/base",
          "model_module_version": "1.2.0",
          "model_name": "LayoutModel",
          "state": {
            "_model_module": "@jupyter-widgets/base",
            "_model_module_version": "1.2.0",
            "_model_name": "LayoutModel",
            "_view_count": null,
            "_view_module": "@jupyter-widgets/base",
            "_view_module_version": "1.2.0",
            "_view_name": "LayoutView",
            "align_content": null,
            "align_items": null,
            "align_self": null,
            "border": null,
            "bottom": null,
            "display": null,
            "flex": null,
            "flex_flow": null,
            "grid_area": null,
            "grid_auto_columns": null,
            "grid_auto_flow": null,
            "grid_auto_rows": null,
            "grid_column": null,
            "grid_gap": null,
            "grid_row": null,
            "grid_template_areas": null,
            "grid_template_columns": null,
            "grid_template_rows": null,
            "height": null,
            "justify_content": null,
            "justify_items": null,
            "left": null,
            "margin": null,
            "max_height": null,
            "max_width": null,
            "min_height": null,
            "min_width": null,
            "object_fit": null,
            "object_position": null,
            "order": null,
            "overflow": null,
            "overflow_x": null,
            "overflow_y": null,
            "padding": null,
            "right": null,
            "top": null,
            "visibility": null,
            "width": null
          }
        },
        "df6e6c84cc1c4c7b8cf5f8555eb42166": {
          "model_module": "@jupyter-widgets/controls",
          "model_module_version": "1.5.0",
          "model_name": "ProgressStyleModel",
          "state": {
            "_model_module": "@jupyter-widgets/controls",
            "_model_module_version": "1.5.0",
            "_model_name": "ProgressStyleModel",
            "_view_count": null,
            "_view_module": "@jupyter-widgets/base",
            "_view_module_version": "1.2.0",
            "_view_name": "StyleView",
            "bar_color": null,
            "description_width": ""
          }
        },
        "e64cfd87330d4b238596da66db63d984": {
          "model_module": "@jupyter-widgets/controls",
          "model_module_version": "1.5.0",
          "model_name": "DescriptionStyleModel",
          "state": {
            "_model_module": "@jupyter-widgets/controls",
            "_model_module_version": "1.5.0",
            "_model_name": "DescriptionStyleModel",
            "_view_count": null,
            "_view_module": "@jupyter-widgets/base",
            "_view_module_version": "1.2.0",
            "_view_name": "StyleView",
            "description_width": ""
          }
        },
        "e7e6388db19d47ceb06afc75fbb8486c": {
          "model_module": "@jupyter-widgets/controls",
          "model_module_version": "1.5.0",
          "model_name": "HTMLModel",
          "state": {
            "_dom_classes": [],
            "_model_module": "@jupyter-widgets/controls",
            "_model_module_version": "1.5.0",
            "_model_name": "HTMLModel",
            "_view_count": null,
            "_view_module": "@jupyter-widgets/controls",
            "_view_module_version": "1.5.0",
            "_view_name": "HTMLView",
            "description": "",
            "description_tooltip": null,
            "layout": "IPY_MODEL_2bcca7acc6f047d6ad4efbf1e5333c58",
            "placeholder": "​",
            "style": "IPY_MODEL_052ec73371404595b7dec973dda308d4",
            "value": " 217M/217M [00:07&lt;00:00, 37.2MB/s]"
          }
        },
        "ef5fba5f330748faa9bd583d637087a6": {
          "model_module": "@jupyter-widgets/controls",
          "model_module_version": "1.5.0",
          "model_name": "ProgressStyleModel",
          "state": {
            "_model_module": "@jupyter-widgets/controls",
            "_model_module_version": "1.5.0",
            "_model_name": "ProgressStyleModel",
            "_view_count": null,
            "_view_module": "@jupyter-widgets/base",
            "_view_module_version": "1.2.0",
            "_view_name": "StyleView",
            "bar_color": null,
            "description_width": ""
          }
        },
        "ef897646c62444929b91935d3917b14d": {
          "model_module": "@jupyter-widgets/controls",
          "model_module_version": "1.5.0",
          "model_name": "HBoxModel",
          "state": {
            "_dom_classes": [],
            "_model_module": "@jupyter-widgets/controls",
            "_model_module_version": "1.5.0",
            "_model_name": "HBoxModel",
            "_view_count": null,
            "_view_module": "@jupyter-widgets/controls",
            "_view_module_version": "1.5.0",
            "_view_name": "HBoxView",
            "box_style": "",
            "children": [
              "IPY_MODEL_3bd05fe4e6bd4ea2b7bfcfba705369c5",
              "IPY_MODEL_27e36e7f92d7417bb221fa95406cfb2f",
              "IPY_MODEL_21318da3ae0644c28ec63983a34bd2ee"
            ],
            "layout": "IPY_MODEL_c428c0bd915d455986b3193e9636ea80"
          }
        },
        "f63ee7f4234c45d48829e011f24eafde": {
          "model_module": "@jupyter-widgets/base",
          "model_module_version": "1.2.0",
          "model_name": "LayoutModel",
          "state": {
            "_model_module": "@jupyter-widgets/base",
            "_model_module_version": "1.2.0",
            "_model_name": "LayoutModel",
            "_view_count": null,
            "_view_module": "@jupyter-widgets/base",
            "_view_module_version": "1.2.0",
            "_view_name": "LayoutView",
            "align_content": null,
            "align_items": null,
            "align_self": null,
            "border": null,
            "bottom": null,
            "display": null,
            "flex": null,
            "flex_flow": null,
            "grid_area": null,
            "grid_auto_columns": null,
            "grid_auto_flow": null,
            "grid_auto_rows": null,
            "grid_column": null,
            "grid_gap": null,
            "grid_row": null,
            "grid_template_areas": null,
            "grid_template_columns": null,
            "grid_template_rows": null,
            "height": null,
            "justify_content": null,
            "justify_items": null,
            "left": null,
            "margin": null,
            "max_height": null,
            "max_width": null,
            "min_height": null,
            "min_width": null,
            "object_fit": null,
            "object_position": null,
            "order": null,
            "overflow": null,
            "overflow_x": null,
            "overflow_y": null,
            "padding": null,
            "right": null,
            "top": null,
            "visibility": null,
            "width": null
          }
        },
        "f8bcfb1381aa46d89034ea50e30b43cf": {
          "model_module": "@jupyter-widgets/controls",
          "model_module_version": "1.5.0",
          "model_name": "DescriptionStyleModel",
          "state": {
            "_model_module": "@jupyter-widgets/controls",
            "_model_module_version": "1.5.0",
            "_model_name": "DescriptionStyleModel",
            "_view_count": null,
            "_view_module": "@jupyter-widgets/base",
            "_view_module_version": "1.2.0",
            "_view_name": "StyleView",
            "description_width": ""
          }
        },
        "fc994e0c5ced45c78c0b9bb6f19c073f": {
          "model_module": "@jupyter-widgets/controls",
          "model_module_version": "1.5.0",
          "model_name": "HTMLModel",
          "state": {
            "_dom_classes": [],
            "_model_module": "@jupyter-widgets/controls",
            "_model_module_version": "1.5.0",
            "_model_name": "HTMLModel",
            "_view_count": null,
            "_view_module": "@jupyter-widgets/controls",
            "_view_module_version": "1.5.0",
            "_view_name": "HTMLView",
            "description": "",
            "description_tooltip": null,
            "layout": "IPY_MODEL_daabde9b4b764797af6b96370e40c1d2",
            "placeholder": "​",
            "style": "IPY_MODEL_7d37b6f0ba8b4c5eb875635b98778d26",
            "value": " 1.47k/1.47k [00:00&lt;00:00, 66.9kB/s]"
          }
        }
      }
    }
  },
  "nbformat": 4,
  "nbformat_minor": 5
}
